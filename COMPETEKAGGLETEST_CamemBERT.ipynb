{
  "nbformat": 4,
  "nbformat_minor": 0,
  "metadata": {
    "colab": {
      "provenance": [],
      "gpuType": "T4"
    },
    "kernelspec": {
      "name": "python3",
      "display_name": "Python 3"
    },
    "language_info": {
      "name": "python"
    },
    "accelerator": "GPU"
  },
  "cells": [
    {
      "cell_type": "markdown",
      "source": [
        "# **Training a Camembert Model for Text Difficulty Classification**"
      ],
      "metadata": {
        "id": "luZiIVvqTl4f"
      }
    },
    {
      "cell_type": "markdown",
      "source": [
        "All the necessary import, including sentencepiece that is mandatory for a camembert model (sometimes after installation, we must relaunch the environment)"
      ],
      "metadata": {
        "id": "aBZ6PwguT-tC"
      }
    },
    {
      "cell_type": "code",
      "execution_count": null,
      "metadata": {
        "colab": {
          "base_uri": "https://localhost:8080/"
        },
        "id": "GU5a2kcpfkK9",
        "outputId": "201adf29-88c4-4001-eaa5-efec99b76b92"
      },
      "outputs": [
        {
          "output_type": "stream",
          "name": "stdout",
          "text": [
            "Requirement already satisfied: transformers in /usr/local/lib/python3.10/dist-packages (4.35.2)\n",
            "Requirement already satisfied: filelock in /usr/local/lib/python3.10/dist-packages (from transformers) (3.13.1)\n",
            "Requirement already satisfied: huggingface-hub<1.0,>=0.16.4 in /usr/local/lib/python3.10/dist-packages (from transformers) (0.19.4)\n",
            "Requirement already satisfied: numpy>=1.17 in /usr/local/lib/python3.10/dist-packages (from transformers) (1.23.5)\n",
            "Requirement already satisfied: packaging>=20.0 in /usr/local/lib/python3.10/dist-packages (from transformers) (23.2)\n",
            "Requirement already satisfied: pyyaml>=5.1 in /usr/local/lib/python3.10/dist-packages (from transformers) (6.0.1)\n",
            "Requirement already satisfied: regex!=2019.12.17 in /usr/local/lib/python3.10/dist-packages (from transformers) (2023.6.3)\n",
            "Requirement already satisfied: requests in /usr/local/lib/python3.10/dist-packages (from transformers) (2.31.0)\n",
            "Requirement already satisfied: tokenizers<0.19,>=0.14 in /usr/local/lib/python3.10/dist-packages (from transformers) (0.15.0)\n",
            "Requirement already satisfied: safetensors>=0.3.1 in /usr/local/lib/python3.10/dist-packages (from transformers) (0.4.1)\n",
            "Requirement already satisfied: tqdm>=4.27 in /usr/local/lib/python3.10/dist-packages (from transformers) (4.66.1)\n",
            "Requirement already satisfied: fsspec>=2023.5.0 in /usr/local/lib/python3.10/dist-packages (from huggingface-hub<1.0,>=0.16.4->transformers) (2023.6.0)\n",
            "Requirement already satisfied: typing-extensions>=3.7.4.3 in /usr/local/lib/python3.10/dist-packages (from huggingface-hub<1.0,>=0.16.4->transformers) (4.5.0)\n",
            "Requirement already satisfied: charset-normalizer<4,>=2 in /usr/local/lib/python3.10/dist-packages (from requests->transformers) (3.3.2)\n",
            "Requirement already satisfied: idna<4,>=2.5 in /usr/local/lib/python3.10/dist-packages (from requests->transformers) (3.6)\n",
            "Requirement already satisfied: urllib3<3,>=1.21.1 in /usr/local/lib/python3.10/dist-packages (from requests->transformers) (2.0.7)\n",
            "Requirement already satisfied: certifi>=2017.4.17 in /usr/local/lib/python3.10/dist-packages (from requests->transformers) (2023.11.17)\n",
            "Collecting PyTorch\n",
            "  Downloading pytorch-1.0.2.tar.gz (689 bytes)\n",
            "  Preparing metadata (setup.py) ... \u001b[?25l\u001b[?25hdone\n",
            "Building wheels for collected packages: PyTorch\n",
            "  \u001b[1;31merror\u001b[0m: \u001b[1msubprocess-exited-with-error\u001b[0m\n",
            "  \n",
            "  \u001b[31m×\u001b[0m \u001b[32mpython setup.py bdist_wheel\u001b[0m did not run successfully.\n",
            "  \u001b[31m│\u001b[0m exit code: \u001b[1;36m1\u001b[0m\n",
            "  \u001b[31m╰─>\u001b[0m See above for output.\n",
            "  \n",
            "  \u001b[1;35mnote\u001b[0m: This error originates from a subprocess, and is likely not a problem with pip.\n",
            "  Building wheel for PyTorch (setup.py) ... \u001b[?25lerror\n",
            "\u001b[31m  ERROR: Failed building wheel for PyTorch\u001b[0m\u001b[31m\n",
            "\u001b[0m\u001b[?25h  Running setup.py clean for PyTorch\n",
            "Failed to build PyTorch\n",
            "\u001b[31mERROR: Could not build wheels for PyTorch, which is required to install pyproject.toml-based projects\u001b[0m\u001b[31m\n",
            "\u001b[0mRequirement already satisfied: TensorFlow in /usr/local/lib/python3.10/dist-packages (2.14.0)\n",
            "Requirement already satisfied: absl-py>=1.0.0 in /usr/local/lib/python3.10/dist-packages (from TensorFlow) (1.4.0)\n",
            "Requirement already satisfied: astunparse>=1.6.0 in /usr/local/lib/python3.10/dist-packages (from TensorFlow) (1.6.3)\n",
            "Requirement already satisfied: flatbuffers>=23.5.26 in /usr/local/lib/python3.10/dist-packages (from TensorFlow) (23.5.26)\n",
            "Requirement already satisfied: gast!=0.5.0,!=0.5.1,!=0.5.2,>=0.2.1 in /usr/local/lib/python3.10/dist-packages (from TensorFlow) (0.5.4)\n",
            "Requirement already satisfied: google-pasta>=0.1.1 in /usr/local/lib/python3.10/dist-packages (from TensorFlow) (0.2.0)\n",
            "Requirement already satisfied: h5py>=2.9.0 in /usr/local/lib/python3.10/dist-packages (from TensorFlow) (3.9.0)\n",
            "Requirement already satisfied: libclang>=13.0.0 in /usr/local/lib/python3.10/dist-packages (from TensorFlow) (16.0.6)\n",
            "Requirement already satisfied: ml-dtypes==0.2.0 in /usr/local/lib/python3.10/dist-packages (from TensorFlow) (0.2.0)\n",
            "Requirement already satisfied: numpy>=1.23.5 in /usr/local/lib/python3.10/dist-packages (from TensorFlow) (1.23.5)\n",
            "Requirement already satisfied: opt-einsum>=2.3.2 in /usr/local/lib/python3.10/dist-packages (from TensorFlow) (3.3.0)\n",
            "Requirement already satisfied: packaging in /usr/local/lib/python3.10/dist-packages (from TensorFlow) (23.2)\n",
            "Requirement already satisfied: protobuf!=4.21.0,!=4.21.1,!=4.21.2,!=4.21.3,!=4.21.4,!=4.21.5,<5.0.0dev,>=3.20.3 in /usr/local/lib/python3.10/dist-packages (from TensorFlow) (3.20.3)\n",
            "Requirement already satisfied: setuptools in /usr/local/lib/python3.10/dist-packages (from TensorFlow) (67.7.2)\n",
            "Requirement already satisfied: six>=1.12.0 in /usr/local/lib/python3.10/dist-packages (from TensorFlow) (1.16.0)\n",
            "Requirement already satisfied: termcolor>=1.1.0 in /usr/local/lib/python3.10/dist-packages (from TensorFlow) (2.4.0)\n",
            "Requirement already satisfied: typing-extensions>=3.6.6 in /usr/local/lib/python3.10/dist-packages (from TensorFlow) (4.5.0)\n",
            "Requirement already satisfied: wrapt<1.15,>=1.11.0 in /usr/local/lib/python3.10/dist-packages (from TensorFlow) (1.14.1)\n",
            "Requirement already satisfied: tensorflow-io-gcs-filesystem>=0.23.1 in /usr/local/lib/python3.10/dist-packages (from TensorFlow) (0.34.0)\n",
            "Requirement already satisfied: grpcio<2.0,>=1.24.3 in /usr/local/lib/python3.10/dist-packages (from TensorFlow) (1.59.3)\n",
            "Requirement already satisfied: tensorboard<2.15,>=2.14 in /usr/local/lib/python3.10/dist-packages (from TensorFlow) (2.14.1)\n",
            "Requirement already satisfied: tensorflow-estimator<2.15,>=2.14.0 in /usr/local/lib/python3.10/dist-packages (from TensorFlow) (2.14.0)\n",
            "Requirement already satisfied: keras<2.15,>=2.14.0 in /usr/local/lib/python3.10/dist-packages (from TensorFlow) (2.14.0)\n",
            "Requirement already satisfied: wheel<1.0,>=0.23.0 in /usr/local/lib/python3.10/dist-packages (from astunparse>=1.6.0->TensorFlow) (0.42.0)\n",
            "Requirement already satisfied: google-auth<3,>=1.6.3 in /usr/local/lib/python3.10/dist-packages (from tensorboard<2.15,>=2.14->TensorFlow) (2.17.3)\n",
            "Requirement already satisfied: google-auth-oauthlib<1.1,>=0.5 in /usr/local/lib/python3.10/dist-packages (from tensorboard<2.15,>=2.14->TensorFlow) (1.0.0)\n",
            "Requirement already satisfied: markdown>=2.6.8 in /usr/local/lib/python3.10/dist-packages (from tensorboard<2.15,>=2.14->TensorFlow) (3.5.1)\n",
            "Requirement already satisfied: requests<3,>=2.21.0 in /usr/local/lib/python3.10/dist-packages (from tensorboard<2.15,>=2.14->TensorFlow) (2.31.0)\n",
            "Requirement already satisfied: tensorboard-data-server<0.8.0,>=0.7.0 in /usr/local/lib/python3.10/dist-packages (from tensorboard<2.15,>=2.14->TensorFlow) (0.7.2)\n",
            "Requirement already satisfied: werkzeug>=1.0.1 in /usr/local/lib/python3.10/dist-packages (from tensorboard<2.15,>=2.14->TensorFlow) (3.0.1)\n",
            "Requirement already satisfied: cachetools<6.0,>=2.0.0 in /usr/local/lib/python3.10/dist-packages (from google-auth<3,>=1.6.3->tensorboard<2.15,>=2.14->TensorFlow) (5.3.2)\n",
            "Requirement already satisfied: pyasn1-modules>=0.2.1 in /usr/local/lib/python3.10/dist-packages (from google-auth<3,>=1.6.3->tensorboard<2.15,>=2.14->TensorFlow) (0.3.0)\n",
            "Requirement already satisfied: rsa<5,>=3.1.4 in /usr/local/lib/python3.10/dist-packages (from google-auth<3,>=1.6.3->tensorboard<2.15,>=2.14->TensorFlow) (4.9)\n",
            "Requirement already satisfied: requests-oauthlib>=0.7.0 in /usr/local/lib/python3.10/dist-packages (from google-auth-oauthlib<1.1,>=0.5->tensorboard<2.15,>=2.14->TensorFlow) (1.3.1)\n",
            "Requirement already satisfied: charset-normalizer<4,>=2 in /usr/local/lib/python3.10/dist-packages (from requests<3,>=2.21.0->tensorboard<2.15,>=2.14->TensorFlow) (3.3.2)\n",
            "Requirement already satisfied: idna<4,>=2.5 in /usr/local/lib/python3.10/dist-packages (from requests<3,>=2.21.0->tensorboard<2.15,>=2.14->TensorFlow) (3.6)\n",
            "Requirement already satisfied: urllib3<3,>=1.21.1 in /usr/local/lib/python3.10/dist-packages (from requests<3,>=2.21.0->tensorboard<2.15,>=2.14->TensorFlow) (2.0.7)\n",
            "Requirement already satisfied: certifi>=2017.4.17 in /usr/local/lib/python3.10/dist-packages (from requests<3,>=2.21.0->tensorboard<2.15,>=2.14->TensorFlow) (2023.11.17)\n",
            "Requirement already satisfied: MarkupSafe>=2.1.1 in /usr/local/lib/python3.10/dist-packages (from werkzeug>=1.0.1->tensorboard<2.15,>=2.14->TensorFlow) (2.1.3)\n",
            "Requirement already satisfied: pyasn1<0.6.0,>=0.4.6 in /usr/local/lib/python3.10/dist-packages (from pyasn1-modules>=0.2.1->google-auth<3,>=1.6.3->tensorboard<2.15,>=2.14->TensorFlow) (0.5.1)\n",
            "Requirement already satisfied: oauthlib>=3.0.0 in /usr/local/lib/python3.10/dist-packages (from requests-oauthlib>=0.7.0->google-auth-oauthlib<1.1,>=0.5->tensorboard<2.15,>=2.14->TensorFlow) (3.2.2)\n",
            "Collecting sentencepiece\n",
            "  Downloading sentencepiece-0.1.99-cp310-cp310-manylinux_2_17_x86_64.manylinux2014_x86_64.whl (1.3 MB)\n",
            "\u001b[2K     \u001b[90m━━━━━━━━━━━━━━━━━━━━━━━━━━━━━━━━━━━━━━━━\u001b[0m \u001b[32m1.3/1.3 MB\u001b[0m \u001b[31m11.4 MB/s\u001b[0m eta \u001b[36m0:00:00\u001b[0m\n",
            "\u001b[?25hInstalling collected packages: sentencepiece\n",
            "Successfully installed sentencepiece-0.1.99\n"
          ]
        }
      ],
      "source": [
        "!pip install transformers\n",
        "!pip install PyTorch\n",
        "!pip install TensorFlow\n",
        "!pip install sentencepiece"
      ]
    },
    {
      "cell_type": "code",
      "source": [
        "import numpy as np\n",
        "import pandas as pd\n",
        "from sklearn.metrics import precision_score, recall_score, f1_score, accuracy_score\n",
        "from sklearn.feature_extraction.text import TfidfVectorizer\n",
        "import re\n",
        "from sklearn.preprocessing import LabelEncoder\n",
        "from sklearn.model_selection import train_test_split\n",
        "from sklearn.linear_model import LogisticRegression, LogisticRegressionCV\n",
        "from sklearn.metrics import classification_report\n",
        "import joblib\n",
        "import nltk\n",
        "from nltk.stem import WordNetLemmatizer\n",
        "from nltk.corpus import stopwords\n",
        "from sklearn.feature_extraction.text import CountVectorizer\n",
        "from sklearn.ensemble import RandomForestClassifier\n",
        "from sklearn.neighbors import KNeighborsClassifier\n",
        "from sklearn.tree import DecisionTreeClassifier\n",
        "from sklearn.model_selection import GridSearchCV\n",
        "from transformers import BertTokenizer, BertForSequenceClassification, get_linear_schedule_with_warmup, CamembertTokenizer\n",
        "from torch.utils.data import DataLoader, RandomSampler, SequentialSampler, TensorDataset\n",
        "from tqdm import tqdm\n",
        "import torch\n",
        "import huggingface_hub"
      ],
      "metadata": {
        "id": "FSAhbb2Dgp2u"
      },
      "execution_count": null,
      "outputs": []
    },
    {
      "cell_type": "code",
      "source": [
        "from torch.utils.data import Dataset"
      ],
      "metadata": {
        "id": "7kDos6uoj14j"
      },
      "execution_count": null,
      "outputs": []
    },
    {
      "cell_type": "markdown",
      "source": [
        "Import the data from my GIT repo"
      ],
      "metadata": {
        "id": "OdBOomcuUUin"
      }
    },
    {
      "cell_type": "code",
      "source": [
        "#load data\n",
        "\n",
        "!git clone https://github.com/melvin2504/Detecting-the-difficulty-level-of-French-texts/ project_repo"
      ],
      "metadata": {
        "colab": {
          "base_uri": "https://localhost:8080/"
        },
        "id": "m95RHm0Agr7h",
        "outputId": "77796c47-f2a0-4fe2-dcff-00d5f5ed26e5"
      },
      "execution_count": null,
      "outputs": [
        {
          "output_type": "stream",
          "name": "stdout",
          "text": [
            "Cloning into 'project_repo'...\n",
            "remote: Enumerating objects: 77, done.\u001b[K\n",
            "remote: Counting objects: 100% (11/11), done.\u001b[K\n",
            "remote: Compressing objects: 100% (10/10), done.\u001b[K\n",
            "remote: Total 77 (delta 6), reused 1 (delta 1), pack-reused 66\u001b[K\n",
            "Receiving objects: 100% (77/77), 1.51 MiB | 10.75 MiB/s, done.\n",
            "Resolving deltas: 100% (21/21), done.\n"
          ]
        }
      ]
    },
    {
      "cell_type": "code",
      "source": [
        "df = pd.read_csv(\"/content/project_repo/data/training_data.csv\")\n",
        "unlabeled_df = pd.read_csv(\"/content/project_repo/data/unlabelled_test_data.csv\")"
      ],
      "metadata": {
        "id": "b2M1lpXYguxG"
      },
      "execution_count": null,
      "outputs": []
    },
    {
      "cell_type": "markdown",
      "source": [
        "# **Preprocessing and Model Initialization**\n",
        "# Step 1: Initialize the Label Encoder"
      ],
      "metadata": {
        "id": "qAxs2RT-VsW1"
      }
    },
    {
      "cell_type": "code",
      "source": [
        "# Initialize the label encoder\n",
        "label_encoder = LabelEncoder()\n",
        "\n",
        "# Encode the difficulty labels\n",
        "df['difficulty_encoded'] = label_encoder.fit_transform(df['difficulty'])\n"
      ],
      "metadata": {
        "id": "xLs6yaQxlz7_"
      },
      "execution_count": null,
      "outputs": []
    },
    {
      "cell_type": "markdown",
      "source": [
        "# Step 2: Split the Dataset\n",
        "\n",
        "Here, we split the dataset into training and testing sets. The test set is 20% of the entire dataset. That is a parameters we can change to fine-tune the model"
      ],
      "metadata": {
        "id": "CQTgCbWoV1gI"
      }
    },
    {
      "cell_type": "code",
      "source": [
        "# Split the dataset into training and testing sets\n",
        "train_df, test_df = train_test_split(df, test_size=0.2, random_state=42)"
      ],
      "metadata": {
        "id": "3GFjz22Ojixu"
      },
      "execution_count": null,
      "outputs": []
    },
    {
      "cell_type": "markdown",
      "source": [
        "# Step 3: Compute Class Weights\n",
        "\n",
        "This section calculates the class weights, which helps in dealing with imbalanced datasets by assigning different weights to different classes (when we augment the data for specific labels for example)"
      ],
      "metadata": {
        "id": "Z4A8Uf01WH9u"
      }
    },
    {
      "cell_type": "code",
      "source": [
        "from torch.nn import CrossEntropyLoss\n",
        "from sklearn.utils.class_weight import compute_class_weight\n",
        "\n",
        "class_weights = compute_class_weight('balanced', classes=np.unique(df['difficulty_encoded']), y=df['difficulty_encoded'])\n",
        "\n",
        "# Convert class_weights to a tensor\n",
        "class_weights = torch.tensor(class_weights, dtype=torch.float)\n",
        "class_weights = class_weights.to('cuda')  # If you are using a GPU"
      ],
      "metadata": {
        "id": "GP2_oeMuWsEg"
      },
      "execution_count": null,
      "outputs": []
    },
    {
      "cell_type": "markdown",
      "source": [
        "# Step 4: Define Loss Function\n",
        "\n",
        "The CrossEntropyLoss function is defined with the computed class weights. This is particularly useful for classification tasks."
      ],
      "metadata": {
        "id": "lG2SPk4QWrPM"
      }
    },
    {
      "cell_type": "code",
      "source": [
        "# Define the loss function with class weights\n",
        "loss_fn = CrossEntropyLoss(weight=class_weights)"
      ],
      "metadata": {
        "id": "SDXuZtsoWsuZ"
      },
      "execution_count": null,
      "outputs": []
    },
    {
      "cell_type": "markdown",
      "source": [
        "# Step 5: Create a Custom Dataset Class\n",
        "\n",
        "We create a custom dataset class for handling French text. This includes methods for initializing the dataset, calculating its length, and retrieving a specific item.\n",
        "\n",
        "#### Class Definition\n",
        "- **Purpose**: The `FrenchTextDataset` class, inheriting from PyTorch's `Dataset`, is tailored for handling French texts and their corresponding labels. It's specifically designed for our text classification task.\n",
        "\n",
        "#### Initialization Method (`__init__`)\n",
        "- **Functionality**: Initializes the dataset with texts, labels, a tokenizer, and a maximum token length. These parameters are essential for preparing the dataset for the model.\n",
        "- **Parameters**:\n",
        "  - `texts`: The French texts to be used for training/testing.\n",
        "  - `labels`: Corresponding labels for each text.\n",
        "  - `tokenizer`: A tokenizer for text processing, specific to our model's needs.\n",
        "  - `max_token_len`: The maximum length for tokenization, ensuring uniformity in input size.\n",
        "\n",
        "#### Length Method (`__len__`)\n",
        "- **Purpose**: Returns the total number of texts in the dataset. This method is crucial for PyTorch to understand the size of the dataset.\n",
        "\n",
        "#### Get Item Method (`__getitem__`)\n",
        "- **Functionality**: Retrieves a specific item (text and label) from the dataset, based on an index. This method is called during dataset iteration.\n",
        "- **Process**:\n",
        "  - Retrieves the text and its corresponding label.\n",
        "  - Uses the `encode_plus` method of the tokenizer to process the text:\n",
        "    - Adds special tokens (like [CLS], [SEP]).\n",
        "    - Applies padding or truncation to fit `max_token_len`.\n",
        "    - Generates an attention mask.\n",
        "  - Returns a dictionary containing `input_ids`, `attention_mask`, and `labels`, essential for model training in PyTorch.\n"
      ],
      "metadata": {
        "id": "HpGWvMF6WxAX"
      }
    },
    {
      "cell_type": "code",
      "source": [
        "class FrenchTextDataset(Dataset):\n",
        "    def __init__(self, texts, labels, tokenizer, max_token_len=512):\n",
        "        # Store the texts, labels, tokenizer, and maximum token length as attributes\n",
        "        self.texts = texts\n",
        "        self.labels = labels\n",
        "        self.tokenizer = tokenizer\n",
        "        self.max_token_len = max_token_len\n",
        "\n",
        "    def __len__(self):\n",
        "        # Return the number of texts in the dataset\n",
        "        return len(self.texts)\n",
        "\n",
        "    def __getitem__(self, index):\n",
        "        # Get the text and label at the specified index\n",
        "        text = self.texts[index]\n",
        "        label = self.labels[index]\n",
        "\n",
        "        # Tokenize the text with added special tokens, padding, and truncation\n",
        "        encoding = self.tokenizer.encode_plus(\n",
        "            text,\n",
        "            add_special_tokens=True,  # Add [CLS] and [SEP] tokens\n",
        "            max_length=self.max_token_len,  # Truncate/pad to this length\n",
        "            return_token_type_ids=False,  # Don't return token type ids\n",
        "            padding='max_length',  # Pad to max_length\n",
        "            truncation=True,  # Truncate to max_length\n",
        "            return_attention_mask=True,  # Return attention mask\n",
        "            return_tensors='pt'  # Return PyTorch tensors\n",
        "        )\n",
        "\n",
        "        # Return a dictionary with input_ids, attention_mask, and labels\n",
        "        return {\n",
        "            'input_ids': encoding['input_ids'].flatten(),  # Flatten the input_ids tensor\n",
        "            'attention_mask': encoding['attention_mask'].flatten(),  # Flatten the attention mask tensor\n",
        "            'labels': torch.tensor(label, dtype=torch.long)  # Convert label to a long tensor\n",
        "        }"
      ],
      "metadata": {
        "id": "2nJ0vCBjjtra"
      },
      "execution_count": null,
      "outputs": []
    },
    {
      "cell_type": "markdown",
      "source": [
        "# Step 6: Initialize CamemBERT Tokenizer\n",
        "\n",
        "Initializes the Camembert tokenizer, which is essential for tokenizing French text."
      ],
      "metadata": {
        "id": "XzY05WXiW9s4"
      }
    },
    {
      "cell_type": "code",
      "source": [
        "# Initialize CamemBERT tokenizer\n",
        "# Here, we are initializing the tokenizer specific to the CamemBERT model.\n",
        "# 'camembert/camembert-base-ccnet' is the pre-trained model identifier.\n",
        "tokenizer = CamembertTokenizer.from_pretrained('camembert/camembert-base-ccnet')\n",
        "\n",
        "# Create the training dataset\n",
        "# The train_dataset is created by passing the training sentences and their corresponding encoded difficulty labels.\n",
        "# The tokenizer defined above is used for processing the texts in the dataset.\n",
        "# This dataset will be used for training the model.\n",
        "train_dataset = FrenchTextDataset(\n",
        "    texts=train_df['sentence'].to_numpy(),  # Convert the sentence column to numpy array for processing\n",
        "    labels=train_df['difficulty_encoded'].to_numpy(),  # Convert the encoded labels to numpy array\n",
        "    tokenizer=tokenizer  # Use the initialized CamembertTokenizer\n",
        ")\n",
        "\n",
        "# Create the testing dataset\n",
        "# Similarly to train_dataset, test_dataset is created for evaluating the model.\n",
        "# It uses the test sentences and their labels, ensuring that the model can be evaluated on unseen data.\n",
        "test_dataset = FrenchTextDataset(\n",
        "    texts=test_df['sentence'].to_numpy(),  # Convert the sentence column of test data to numpy array\n",
        "    labels=test_df['difficulty_encoded'].to_numpy(),  # Convert the encoded labels of test data to numpy array\n",
        "    tokenizer=tokenizer  # Use the same tokenizer as for the training dataset\n",
        ")\n"
      ],
      "metadata": {
        "id": "g_jgVKoqj6Qd"
      },
      "execution_count": null,
      "outputs": []
    },
    {
      "cell_type": "markdown",
      "source": [
        "# Step 7: Create Data Loaders\n",
        "Data loaders are created for both the training and testing datasets. These are used to feed data into the model in batches."
      ],
      "metadata": {
        "id": "G3iD_nXVXFCw"
      }
    },
    {
      "cell_type": "code",
      "source": [
        "# Create data loaders\n",
        "train_loader = DataLoader(train_dataset, batch_size=16, shuffle=True)\n",
        "test_loader = DataLoader(test_dataset, batch_size=16)"
      ],
      "metadata": {
        "id": "hymsGzsDl-66"
      },
      "execution_count": null,
      "outputs": []
    },
    {
      "cell_type": "markdown",
      "source": [
        "# Step 8: Initialize the CamemBERT Model\n",
        "Finally, we initialize the CamemBERT model for sequence classification. The number of labels is set based on the unique values in the difficulty column."
      ],
      "metadata": {
        "id": "Z1vy44OeXL4c"
      }
    },
    {
      "cell_type": "code",
      "source": [
        "from transformers import CamembertForSequenceClassification"
      ],
      "metadata": {
        "id": "EelAnJy3kHs9"
      },
      "execution_count": null,
      "outputs": []
    },
    {
      "cell_type": "code",
      "source": [
        "model = CamembertForSequenceClassification.from_pretrained(\n",
        "    'camembert/camembert-base-ccnet',\n",
        "    num_labels=df['difficulty'].nunique()  # Adjust based on your number of classes\n",
        ")\n",
        "model = model.to('cuda')\n"
      ],
      "metadata": {
        "colab": {
          "base_uri": "https://localhost:8080/"
        },
        "id": "oOsIC8abj9PA",
        "outputId": "356d9f8a-ba87-4ae1-f778-51e9eb9360b7"
      },
      "execution_count": null,
      "outputs": [
        {
          "output_type": "stream",
          "name": "stderr",
          "text": [
            "Some weights of CamembertForSequenceClassification were not initialized from the model checkpoint at camembert/camembert-base and are newly initialized: ['classifier.out_proj.weight', 'classifier.dense.weight', 'classifier.out_proj.bias', 'classifier.dense.bias']\n",
            "You should probably TRAIN this model on a down-stream task to be able to use it for predictions and inference.\n"
          ]
        }
      ]
    },
    {
      "cell_type": "markdown",
      "source": [
        "# Step 9: Training and Evaluation Loop\n",
        "\n",
        "In this section, we perform the training and evaluation of our CamemBERT model. We use the AdamW optimizer with a learning rate of `5e-5`. The training process involves iterating over our training data, performing a forward pass, computing the loss, and updating the model parameters through backpropagation.\n",
        "\n",
        "We also define an `evaluate` function, which calculates the loss on the validation dataset. This function is crucial for monitoring the model's performance on unseen data and helps in preventing overfitting.\n",
        "\n",
        "After each training epoch, we evaluate the model on the validation set. If the validation loss does not improve after a certain number of epochs (defined by the `patience` parameter), we stop the training early. This approach of early stopping is an effective regularization technique to combat overfitting.\n"
      ],
      "metadata": {
        "id": "UjphqL-xYoK5"
      }
    },
    {
      "cell_type": "code",
      "source": [
        "from torch.optim import AdamW"
      ],
      "metadata": {
        "id": "mLsXlI5-mVBC"
      },
      "execution_count": null,
      "outputs": []
    },
    {
      "cell_type": "code",
      "source": [
        "# Initialize the optimizer with model parameters and learning rate\n",
        "optimizer = AdamW(model.parameters(), lr=5e-5)\n",
        "\n",
        "# Define the evaluation function for the validation set\n",
        "def evaluate(model, val_loader):\n",
        "    model.eval()  # Set the model to evaluation mode\n",
        "    val_loss = 0  # Initialize validation loss\n",
        "\n",
        "    # Disable gradient calculations for validation to save memory and computations\n",
        "    with torch.no_grad():\n",
        "        for batch in val_loader:  # Iterate over each batch in the validation loader\n",
        "            # Move input and labels to GPU for faster processing\n",
        "            input_ids = batch['input_ids'].to('cuda')\n",
        "            attention_mask = batch['attention_mask'].to('cuda')\n",
        "            labels = batch['labels'].to('cuda')\n",
        "\n",
        "            # Forward pass without gradient calculation\n",
        "            outputs = model(input_ids, attention_mask=attention_mask, labels=labels)\n",
        "            val_loss += outputs.loss.item()  # Accumulate the loss\n",
        "\n",
        "    return val_loss / len(val_loader)  # Calculate average validation loss\n",
        "\n",
        "# Initialize variables for early stopping\n",
        "best_val_loss = float('inf')\n",
        "patience = 0\n",
        "\n",
        "# Training loop\n",
        "for epoch in range(4):  # Iterate over epochs\n",
        "    model.train()  # Set model to training mode\n",
        "    for batch in train_loader:  # Iterate over each batch in the training loader\n",
        "        # Move input and labels to GPU\n",
        "        input_ids = batch['input_ids'].to('cuda')\n",
        "        attention_mask = batch['attention_mask'].to('cuda')\n",
        "        labels = batch['labels'].to('cuda')\n",
        "\n",
        "        # Forward pass and compute loss\n",
        "        outputs = model(input_ids, attention_mask=attention_mask, labels=labels)\n",
        "        loss = loss_fn(outputs.logits, labels)  # Calculate loss\n",
        "        loss.backward()  # Backpropagation\n",
        "\n",
        "        optimizer.step()  # Update model parameters\n",
        "        optimizer.zero_grad()  # Reset gradients\n",
        "\n",
        "    # Evaluation after each epoch\n",
        "    val_loss = evaluate(model, test_loader)\n",
        "    print(f\"Epoch {epoch} completed. Validation Loss: {val_loss}\")\n",
        "\n",
        "    # Early stopping check\n",
        "    if val_loss < best_val_loss:\n",
        "        best_val_loss = val_loss  # Update the best validation loss\n",
        "        patience = 0  # Reset patience\n",
        "    else:\n",
        "        patience += 1\n",
        "        if patience > 1:  # Stop training if no improvement after certain epochs (can change the patience before breaking)\n",
        "            print(\"Stopping early due to overfitting.\")\n",
        "            break"
      ],
      "metadata": {
        "colab": {
          "base_uri": "https://localhost:8080/"
        },
        "id": "XfxR6xoOkMTq",
        "outputId": "f7e74b5d-890b-41a2-cb70-7c3df49295ee"
      },
      "execution_count": null,
      "outputs": [
        {
          "output_type": "stream",
          "name": "stdout",
          "text": [
            "Epoch 0 completed. Validation Loss: 1.2656187097231546\n",
            "Epoch 1 completed. Validation Loss: 0.9893474598725637\n",
            "Epoch 2 completed. Validation Loss: 1.06071029206117\n",
            "Epoch 3 completed. Validation Loss: 1.1581590235233308\n",
            "Stopping early due to overfitting.\n"
          ]
        }
      ]
    },
    {
      "cell_type": "markdown",
      "source": [
        "### Prediction and Performance Evaluation\n",
        "\n",
        "After training the CamemBERT model, we proceed to evaluate its performance on the test set. This step is crucial for understanding how well the model generalizes to new, unseen data.\n",
        "\n",
        "First, we set the model to evaluation mode using `model.eval()`. This disables dropout and batch normalization layers for the inference phase.\n",
        "\n",
        "We then iterate over the test dataset using our DataLoader. For each batch, we perform a forward pass through the model without calculating gradients, as we are not training during this phase.\n",
        "\n",
        "The model outputs logits, which are then converted into predicted class labels using the `argmax` function. These predictions, along with the actual labels from the test data, are used to generate a classification report. This report provides a comprehensive overview of the model's performance, including metrics like precision, recall, and F1-score for each class.\n"
      ],
      "metadata": {
        "id": "7q6UNDBwaFLN"
      }
    },
    {
      "cell_type": "code",
      "source": [
        "model.eval()  # Set the model to evaluation mode\n",
        "\n",
        "# Initialize lists to store predictions and actual labels\n",
        "predictions, true_labels = [], []\n",
        "\n",
        "# Iterate over the test data\n",
        "for batch in test_loader:\n",
        "    # Move the batch to GPU for faster processing\n",
        "    batch = {k: v.to('cuda') for k, v in batch.items()}\n",
        "\n",
        "    # Disable gradient calculations as we are in inference mode\n",
        "    with torch.no_grad():\n",
        "        outputs = model(**batch)  # Forward pass with the batch\n",
        "\n",
        "    logits = outputs.logits  # Extract the logits from the model output\n",
        "    predictions.extend(logits.argmax(dim=1).tolist())  # Get the predicted labels\n",
        "    true_labels.extend(batch['labels'].tolist())  # Append the actual labels\n",
        "\n",
        "# Print the classification report comparing predictions and true labels\n",
        "print(classification_report(true_labels, predictions))\n"
      ],
      "metadata": {
        "id": "x3PyOW3CkXDA",
        "colab": {
          "base_uri": "https://localhost:8080/"
        },
        "outputId": "f9563d65-989e-416d-897b-c5b7fabad3cb"
      },
      "execution_count": null,
      "outputs": [
        {
          "output_type": "stream",
          "name": "stdout",
          "text": [
            "              precision    recall  f1-score   support\n",
            "\n",
            "           0       0.77      0.74      0.75        91\n",
            "           1       0.50      0.44      0.47        72\n",
            "           2       0.61      0.50      0.55        92\n",
            "           3       0.46      0.71      0.56        70\n",
            "           4       0.55      0.49      0.52        71\n",
            "           5       0.68      0.65      0.67        84\n",
            "\n",
            "    accuracy                           0.59       480\n",
            "   macro avg       0.59      0.59      0.59       480\n",
            "weighted avg       0.61      0.59      0.59       480\n",
            "\n"
          ]
        }
      ]
    },
    {
      "cell_type": "markdown",
      "source": [
        "### Classification Report Analysis\n",
        "\n",
        "#### Key Metrics:\n",
        "- **Precision**: Measures the ratio of correctly predicted positive observations to the total predicted positives. High precision relates to a low false positive rate.\n",
        "  - Example: Class 0 has a precision of 0.77, meaning 77% of instances predicted as class 0 are correctly identified.\n",
        "\n",
        "- **Recall (Sensitivity)**: Indicates the proportion of actual positives correctly identified.\n",
        "  - Example: Class 3 has a recall of 0.71, meaning the model correctly identifies 71% of all actual class 3 instances.\n",
        "\n",
        "- **F1-Score**: A weighted average of Precision and Recall, useful in imbalanced class distributions. A high F1 score implies low false positives and negatives.\n",
        "  - Example: Class 3 has the highest F1-score of 0.56 among the classes, indicating a balanced precision and recall.\n",
        "\n",
        "- **Support**: The actual number of occurrences of each class in the dataset.\n",
        "  - Example: Class 0 appears 91 times.\n",
        "\n",
        "- **Accuracy**: The overall rate of correctly predicted observations. The model's accuracy is 0.59 (59%), indicating its general effectiveness.\n",
        "\n",
        "- **Macro Avg**: The unweighted average of precision, recall, and F1-score across classes, standing at 0.59 for this model.\n",
        "\n",
        "- **Weighted Avg**: Accounts for class imbalance by weighting each class's metrics by its support, showing a slightly better performance at around 0.61.\n"
      ],
      "metadata": {
        "id": "hv51ppX8bc9l"
      }
    },
    {
      "cell_type": "markdown",
      "source": [
        "### Visualizing the Confusion Matrix\n",
        "\n",
        "A confusion matrix is a useful tool for understanding the performance of a classification model. It helps in visualizing the model's predictions in comparison with the actual labels.\n",
        "\n",
        "To create the confusion matrix, we use the `confusion_matrix` function from `sklearn.metrics`, passing in the true labels and the predictions made by the model.\n",
        "\n",
        "We then use Matplotlib and Seaborn libraries to plot the confusion matrix. `plt.figure(figsize=(10, 7))` sets the size of the plot for better visibility. `sns.heatmap` is used to create a heatmap representation of the confusion matrix. The parameters `annot=True` and `fmt='g'` ensure that the individual counts are displayed in each cell of the\n"
      ],
      "metadata": {
        "id": "HLJrz2i4aaiR"
      }
    },
    {
      "cell_type": "code",
      "source": [
        "from sklearn.metrics import classification_report, confusion_matrix\n",
        "import matplotlib.pyplot as plt\n",
        "import seaborn as sns\n",
        "\n",
        "# Compute the confusion matrix\n",
        "conf_matrix = confusion_matrix(true_labels, predictions)\n",
        "\n",
        "# Plotting the confusion matrix\n",
        "plt.figure(figsize=(10, 7))  # Set the figure size for the plot\n",
        "sns.heatmap(conf_matrix, annot=True, fmt='g', cmap='Blues')  # Create a heatmap for the confusion matrix\n",
        "plt.xlabel('Predicted Labels')  # Label for the x-axis\n",
        "plt.ylabel('True Labels')  # Label for the y-axis\n",
        "plt.title('Confusion Matrix')  # Title for the plot\n",
        "plt.show()  # Display the plot\n"
      ],
      "metadata": {
        "colab": {
          "base_uri": "https://localhost:8080/",
          "height": 641
        },
        "id": "O5WeCUjrLV9E",
        "outputId": "affed912-a5b7-45a3-8133-14b56d4c8d82"
      },
      "execution_count": null,
      "outputs": [
        {
          "output_type": "display_data",
          "data": {
            "text/plain": [
              "<Figure size 1000x700 with 2 Axes>"
            ],
            "image/png": "[encoded data removed]"
          },
          "metadata": {}
        }
      ]
    },
    {
      "cell_type": "markdown",
      "source": [
        "#### Analysis and Insights:\n",
        "- The model is most precise in predicting Class 0 and most sensitive in identifying Class 3.\n",
        "- The F1-score is fairly consistent across classes, with Class 3 achieving the highest score.\n",
        "- A moderate overall accuracy of 59% may be acceptable but also indicates potential areas for improvement.\n",
        "- Class imbalance (in quality maybe) is evident, impacting the macro and weighted averages.\n",
        "- Classes 1 and 2 show lower performance in precision and recall, suggesting areas for focused improvement.\n"
      ],
      "metadata": {
        "id": "PaqHHy7ragbl"
      }
    },
    {
      "cell_type": "markdown",
      "source": [
        "# Step 10: Retraining Model on Full Dataset\n",
        "\n",
        "After the initial training and evaluation phases, we now proceed to retrain the CamemBERT model on the entire dataset. This process is aimed at leveraging the full range of data available, enhancing the model's ability to generalize and perform effectively on real-world data.\n",
        "\n",
        "The steps for retraining include:\n",
        "\n",
        "1. **Initializing the CamemBERT Tokenizer**: We continue to use the `CamembertTokenizer` for consistent text preprocessing.\n",
        "\n",
        "2. **Preparing the Full Dataset**: The `FrenchTextDataset` is now initialized with the complete dataset, ensuring that all available text data and labels are included.\n",
        "\n",
        "3. **Data Loader Creation**: A DataLoader is set up for the full dataset, with an appropriate batch size and shuffling enabled to ensure diverse mini-batch training.\n",
        "\n",
        "4. **Training Loop**: The model undergoes training for a specified number of epochs. In each epoch, it performs the following steps on each batch of data:\n",
        "    - Forward pass: Processes the input data through the model.\n",
        "    - Loss Computation: Calculates the loss using the `CrossEntropyLoss` function with class weights.\n",
        "    - Backward Pass: Performs backpropagation to update the model's weights.\n",
        "    - Optimization Step: Applies gradient descent to optimize the model's parameters.\n",
        "\n",
        "By retraining on the full dataset, we aim to enhance the model's performance and prepare it for deployment in practical applications.\n"
      ],
      "metadata": {
        "id": "33P8uYIF2jtP"
      }
    },
    {
      "cell_type": "code",
      "source": [
        "# Initialize CamemBERT tokenizer\n",
        "tokenizer = CamembertTokenizer.from_pretrained('camembert/camembert-base-ccnet')\n",
        "\n",
        "full_dataset = FrenchTextDataset(\n",
        "    texts=df['sentence'].to_numpy(),\n",
        "    labels=df['difficulty_encoded'].to_numpy(),\n",
        "    tokenizer=tokenizer\n",
        ")\n",
        "\n",
        "# Create data loaders\n",
        "loader = DataLoader(full_dataset, batch_size=16, shuffle=True)"
      ],
      "metadata": {
        "id": "iqihzYnC2lvx"
      },
      "execution_count": null,
      "outputs": []
    },
    {
      "cell_type": "code",
      "source": [
        "for epoch in range(3):  # Adjust the number of epochs as needed\n",
        "    model.train()\n",
        "    for batch in loader:\n",
        "        input_ids = batch['input_ids'].to('cuda')\n",
        "        attention_mask = batch['attention_mask'].to('cuda')\n",
        "        labels = batch['labels'].to('cuda')\n",
        "\n",
        "        # Forward pass\n",
        "        outputs = model(input_ids, attention_mask=attention_mask, labels=labels)\n",
        "\n",
        "        # Compute loss\n",
        "        loss = loss_fn(outputs.logits, labels)\n",
        "        loss.backward()\n",
        "\n",
        "        optimizer.step()\n",
        "        optimizer.zero_grad()"
      ],
      "metadata": {
        "id": "uQyLQpyr3Ch9"
      },
      "execution_count": null,
      "outputs": []
    },
    {
      "cell_type": "markdown",
      "source": [
        "# Step 11: Preparing the Unlabeled Data\n",
        "\n",
        "In practical applications, we often deal with unlabeled data. To make predictions on such data using our trained CamemBERT model, we need to prepare it in a format that the model can process. The following steps are taken to achieve this:\n",
        "\n",
        "1. **Custom Dataset for Unlabeled Data**: We define a class `UnlabeledFrenchTextDataset`, similar to our labeled dataset class but tailored for unlabeled texts. It handles the tokenization and preparation of the texts without needing labels.\n",
        "\n",
        "2. **Initializing the Unlabeled Dataset**: We initialize this dataset with our unlabeled texts and the previously used tokenizer. This ensures consistency in text processing.\n",
        "\n",
        "3. **DataLoader for Unlabeled Data**: A DataLoader is created for the unlabeled dataset. This DataLoader will enable efficient and manageable processing of the data in batches, which is particularly useful when dealing with large amounts of data.\n",
        "\n",
        "By preparing the unlabeled data in this way, we ensure that it is in the correct format for the CamemBERT model to make predictions. This step is crucial for applying the model to real-world scenarios where labeled data might not always be available.\n"
      ],
      "metadata": {
        "id": "-TfbzV5_dMqB"
      }
    },
    {
      "cell_type": "code",
      "source": [
        "# Custom dataset class for handling unlabeled French text data.\n",
        "class UnlabeledFrenchTextDataset(Dataset):\n",
        "\n",
        "    # Constructor to initialize the dataset.\n",
        "    # - `texts`: array of text data.\n",
        "    # - `tokenizer`: tokenizer used for encoding the texts.\n",
        "    # - `max_token_len`: maximum length of tokens for each text.\n",
        "    def __init__(self, texts, tokenizer, max_token_len=512):\n",
        "        self.texts = texts\n",
        "        self.tokenizer = tokenizer\n",
        "        self.max_token_len = max_token_len\n",
        "\n",
        "    # Returns the total number of texts in the dataset.\n",
        "    def __len__(self):\n",
        "        return len(self.texts)\n",
        "\n",
        "    # Retrieves a single item from the dataset by index.\n",
        "    def __getitem__(self, index):\n",
        "        text = self.texts[index]  # Get the text at the specified index.\n",
        "\n",
        "        # Encode the text into a format suitable for the model.\n",
        "        # - Adds special tokens (like [CLS], [SEP]).\n",
        "        # - Pads or truncates the text to `max_token_len`.\n",
        "        # - Generates an attention mask for the input.\n",
        "        encoding = self.tokenizer.encode_plus(\n",
        "            text,\n",
        "            add_special_tokens=True,\n",
        "            max_length=self.max_token_len,\n",
        "            return_token_type_ids=False,\n",
        "            padding='max_length',\n",
        "            truncation=True,\n",
        "            return_attention_mask=True,\n",
        "            return_tensors='pt'\n",
        "        )\n",
        "\n",
        "        # Returns a dictionary with encoded inputs and attention mask.\n",
        "        # These are needed for model inference.\n",
        "        return {\n",
        "            'input_ids': encoding['input_ids'].flatten(),\n",
        "            'attention_mask': encoding['attention_mask'].flatten()\n",
        "        }\n",
        "\n",
        "# Create an instance of the UnlabeledFrenchTextDataset class.\n",
        "# This dataset is used for processing the unlabeled texts.\n",
        "unlabeled_dataset = UnlabeledFrenchTextDataset(\n",
        "    texts=unlabeled_df['sentence'].to_numpy(),  # Convert the sentences from DataFrame to numpy array.\n",
        "    tokenizer=tokenizer  # Use the same tokenizer as in the training phase.\n",
        ")\n",
        "\n",
        "# DataLoader to efficiently handle batches of the unlabeled data.\n",
        "# - `batch_size`: Number of samples per batch to load.\n",
        "unlabeled_loader = DataLoader(unlabeled_dataset, batch_size=16)\n",
        "\n"
      ],
      "metadata": {
        "id": "9GksBa8XrUYh"
      },
      "execution_count": null,
      "outputs": []
    },
    {
      "cell_type": "markdown",
      "source": [
        "# Step 12: Predicting Unlabeled Data\n",
        "\n",
        "#### Evaluation Mode\n",
        "Firstly, we set our model to evaluation mode using `model.eval()`. This step is crucial as it prepares the model for inference, disabling certain layers like Dropout and BatchNorm that are only active during training.\n",
        "\n",
        "#### Making Predictions\n",
        "We then process the unlabeled data batch-wise. For each batch:\n",
        "- We transfer the batch data to CUDA for accelerated computation.\n",
        "- We use a `torch.no_grad()` context to perform inference without computing gradients, which is more memory efficient and faster.\n",
        "- The model's forward pass is computed with the batch data, yielding logits.\n",
        "\n",
        "#### Processing the Output\n",
        "- We apply `argmax` to the logits to get the most likely class label predictions.\n",
        "- These predictions are collected in a list, `predictions`.\n",
        "\n",
        "#### Label Conversion\n",
        "Finally, we convert our numeric predictions back to their original label format using the `LabelEncoder`'s `inverse_transform` method. This step provides us with the class labels in a human-readable form.\n"
      ],
      "metadata": {
        "id": "DmtGGQj-ebvj"
      }
    },
    {
      "cell_type": "code",
      "source": [
        "# Switching the model to evaluation mode. This is essential as it disables\n",
        "# layers like Dropout and BatchNorm, which behave differently during training.\n",
        "model.eval()\n",
        "\n",
        "# List to store the predictions.\n",
        "predictions = []\n",
        "\n",
        "# Iterate over each batch in the DataLoader.\n",
        "for batch in unlabeled_loader:\n",
        "    # Move the batch data to the GPU for faster computation.\n",
        "    batch = {k: v.to('cuda') for k, v in batch.items()}\n",
        "\n",
        "    # Disable gradient calculations. This reduces memory usage and speeds up computation.\n",
        "    with torch.no_grad():\n",
        "        # Forward pass through the model.\n",
        "        outputs = model(**batch)\n",
        "\n",
        "    # Extract the logits (raw model outputs prior to activation function) from the model outputs.\n",
        "    logits = outputs.logits\n",
        "    # Find the maximum logit to get the most likely class label for each instance in the batch.\n",
        "    preds = logits.argmax(dim=1).tolist()\n",
        "    # Extend the main predictions list with the batch predictions.\n",
        "    predictions.extend(preds)\n",
        "\n",
        "# Convert the numerical predictions back to their original categorical label form.\n",
        "predicted_labels = label_encoder.inverse_transform(predictions)\n",
        "\n"
      ],
      "metadata": {
        "id": "spHTv6oasBCc"
      },
      "execution_count": null,
      "outputs": []
    },
    {
      "cell_type": "markdown",
      "source": [
        "#Step 13: Preparing Submission File for Kaggle\n",
        "\n",
        "#### Creating the Submission DataFrame\n",
        "We prepare a DataFrame named `submission_df` for submission. This DataFrame includes:\n",
        "- `id`: The unique identifiers from our `unlabeled_df`.\n",
        "- `difficulty`: The predicted labels obtained from the model for each text.\n",
        "\n",
        "#### Saving to CSV\n",
        "The DataFrame is then saved to a CSV file using the `to_csv` method. The filename 'submission_v39_Camembert-baseCCnet-epoch4-batch16-lr5e-5-weights-split01.csv' reflects the model version, training details, and the data split used. By setting `index=False`, we ensure that the DataFrame's index is not included in the CSV file, keeping only the relevant columns (`id` and `difficulty`).\n",
        "\n",
        "This step finalizes the process by creating a ready-to-submit file containing our model's predictions.\n"
      ],
      "metadata": {
        "id": "AGGQELkKemRI"
      }
    },
    {
      "cell_type": "code",
      "source": [
        "# Prepare the DataFrame for submission\n",
        "submission_df = pd.DataFrame({\n",
        "    'id': unlabeled_df['id'],\n",
        "    'difficulty': predicted_labels\n",
        "})\n",
        "\n",
        "# Save the DataFrame to a CSV file\n",
        "submission_file = 'submission_v39_Camembert-baseCCnet-epoch4-batch16-lr5e-5-weights-split01.csv'\n",
        "submission_df.to_csv(submission_file, index=False)"
      ],
      "metadata": {
        "id": "88h7WUQmsPgj"
      },
      "execution_count": null,
      "outputs": []
    },
    {
      "cell_type": "markdown",
      "source": [
        "# Step 14: Saving the Trained Model\n",
        "\n",
        "#### Model Save Path\n",
        "We define the path where the trained model will be saved. In this case, it's specified as `\"/content/modelforApp.pth\"`. This path points to a location in the Colab environment, typically in the content directory. The `.pth` extension is commonly used for PyTorch model files.\n",
        "\n",
        "#### Saving the Model's State\n",
        "We use `torch.save` to save the model's state dictionary (`state_dict`). The state dictionary contains all the parameters of the model, such as the weights and biases of the neural network layers. Saving the state dictionary enables us to reload the model later with these exact parameters.\n",
        "\n",
        "#### Confirmation Message\n",
        "After saving the model, a confirmation message is printed, indicating the successful save operation and the path where the model is stored. This is helpful for verification and for locating the saved model file for future use.\n",
        "\n"
      ],
      "metadata": {
        "id": "hudMxOXdfLNG"
      }
    },
    {
      "cell_type": "code",
      "source": [
        "model_path = \"/content/modelforApp.pth\"\n",
        "\n",
        "# Save the model's state_dict\n",
        "torch.save(model.state_dict(), model_path)\n",
        "\n",
        "print(f\"Model saved successfully at {model_path}\")"
      ],
      "metadata": {
        "colab": {
          "base_uri": "https://localhost:8080/"
        },
        "id": "qam7xDb2gaB1",
        "outputId": "138877c6-0efb-458c-aa07-66c2cffb11e7"
      },
      "execution_count": null,
      "outputs": [
        {
          "output_type": "stream",
          "name": "stdout",
          "text": [
            "Model saved successfully at /content/modelforApp.pth\n"
          ]
        }
      ]
    }
  ]
}