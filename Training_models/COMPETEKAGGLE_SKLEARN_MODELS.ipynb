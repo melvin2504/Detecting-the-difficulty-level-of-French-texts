{
  "nbformat": 4,
  "nbformat_minor": 0,
  "metadata": {
    "colab": {
      "provenance": [],
      "gpuType": "T4"
    },
    "kernelspec": {
      "name": "python3",
      "display_name": "Python 3"
    },
    "language_info": {
      "name": "python"
    },
    "accelerator": "GPU"
  },
  "cells": [
    {
      "cell_type": "markdown",
      "source": [
        "# **In this Colab, we wanted to try some basic models from sklearn to predict the sentence difficulty**"
      ],
      "metadata": {
        "id": "psHYds2tlMrk"
      }
    },
    {
      "cell_type": "markdown",
      "source": [
        "Here we instal and import all the library we potentially need for the project (some are not used here but for other Colab we can just copy paste this section)"
      ],
      "metadata": {
        "id": "eIevUTJJlqKo"
      }
    },
    {
      "cell_type": "code",
      "source": [
        "!pip install nltk\n",
        "!pip install transformers\n",
        "!pip install PyTorch\n",
        "!pip install TensorFlow"
      ],
      "metadata": {
        "id": "S03Dipv2Yo5E",
        "colab": {
          "base_uri": "https://localhost:8080/"
        },
        "outputId": "ba1b39c3-2725-401d-8f23-8712a5731f3a"
      },
      "execution_count": 2,
      "outputs": [
        {
          "output_type": "stream",
          "name": "stdout",
          "text": [
            "Requirement already satisfied: nltk in /usr/local/lib/python3.10/dist-packages (3.8.1)\n",
            "Requirement already satisfied: click in /usr/local/lib/python3.10/dist-packages (from nltk) (8.1.7)\n",
            "Requirement already satisfied: joblib in /usr/local/lib/python3.10/dist-packages (from nltk) (1.3.2)\n",
            "Requirement already satisfied: regex>=2021.8.3 in /usr/local/lib/python3.10/dist-packages (from nltk) (2023.6.3)\n",
            "Requirement already satisfied: tqdm in /usr/local/lib/python3.10/dist-packages (from nltk) (4.66.1)\n",
            "Requirement already satisfied: transformers in /usr/local/lib/python3.10/dist-packages (4.35.2)\n",
            "Requirement already satisfied: filelock in /usr/local/lib/python3.10/dist-packages (from transformers) (3.13.1)\n",
            "Requirement already satisfied: huggingface-hub<1.0,>=0.16.4 in /usr/local/lib/python3.10/dist-packages (from transformers) (0.19.4)\n",
            "Requirement already satisfied: numpy>=1.17 in /usr/local/lib/python3.10/dist-packages (from transformers) (1.23.5)\n",
            "Requirement already satisfied: packaging>=20.0 in /usr/local/lib/python3.10/dist-packages (from transformers) (23.2)\n",
            "Requirement already satisfied: pyyaml>=5.1 in /usr/local/lib/python3.10/dist-packages (from transformers) (6.0.1)\n",
            "Requirement already satisfied: regex!=2019.12.17 in /usr/local/lib/python3.10/dist-packages (from transformers) (2023.6.3)\n",
            "Requirement already satisfied: requests in /usr/local/lib/python3.10/dist-packages (from transformers) (2.31.0)\n",
            "Requirement already satisfied: tokenizers<0.19,>=0.14 in /usr/local/lib/python3.10/dist-packages (from transformers) (0.15.0)\n",
            "Requirement already satisfied: safetensors>=0.3.1 in /usr/local/lib/python3.10/dist-packages (from transformers) (0.4.1)\n",
            "Requirement already satisfied: tqdm>=4.27 in /usr/local/lib/python3.10/dist-packages (from transformers) (4.66.1)\n",
            "Requirement already satisfied: fsspec>=2023.5.0 in /usr/local/lib/python3.10/dist-packages (from huggingface-hub<1.0,>=0.16.4->transformers) (2023.6.0)\n",
            "Requirement already satisfied: typing-extensions>=3.7.4.3 in /usr/local/lib/python3.10/dist-packages (from huggingface-hub<1.0,>=0.16.4->transformers) (4.5.0)\n",
            "Requirement already satisfied: charset-normalizer<4,>=2 in /usr/local/lib/python3.10/dist-packages (from requests->transformers) (3.3.2)\n",
            "Requirement already satisfied: idna<4,>=2.5 in /usr/local/lib/python3.10/dist-packages (from requests->transformers) (3.6)\n",
            "Requirement already satisfied: urllib3<3,>=1.21.1 in /usr/local/lib/python3.10/dist-packages (from requests->transformers) (2.0.7)\n",
            "Requirement already satisfied: certifi>=2017.4.17 in /usr/local/lib/python3.10/dist-packages (from requests->transformers) (2023.11.17)\n",
            "Collecting PyTorch\n",
            "  Downloading pytorch-1.0.2.tar.gz (689 bytes)\n",
            "  Preparing metadata (setup.py) ... \u001b[?25l\u001b[?25hdone\n",
            "Building wheels for collected packages: PyTorch\n",
            "  \u001b[1;31merror\u001b[0m: \u001b[1msubprocess-exited-with-error\u001b[0m\n",
            "  \n",
            "  \u001b[31m×\u001b[0m \u001b[32mpython setup.py bdist_wheel\u001b[0m did not run successfully.\n",
            "  \u001b[31m│\u001b[0m exit code: \u001b[1;36m1\u001b[0m\n",
            "  \u001b[31m╰─>\u001b[0m See above for output.\n",
            "  \n",
            "  \u001b[1;35mnote\u001b[0m: This error originates from a subprocess, and is likely not a problem with pip.\n",
            "  Building wheel for PyTorch (setup.py) ... \u001b[?25lerror\n",
            "\u001b[31m  ERROR: Failed building wheel for PyTorch\u001b[0m\u001b[31m\n",
            "\u001b[0m\u001b[?25h  Running setup.py clean for PyTorch\n",
            "Failed to build PyTorch\n",
            "\u001b[31mERROR: Could not build wheels for PyTorch, which is required to install pyproject.toml-based projects\u001b[0m\u001b[31m\n",
            "\u001b[0mRequirement already satisfied: TensorFlow in /usr/local/lib/python3.10/dist-packages (2.14.0)\n",
            "Requirement already satisfied: absl-py>=1.0.0 in /usr/local/lib/python3.10/dist-packages (from TensorFlow) (1.4.0)\n",
            "Requirement already satisfied: astunparse>=1.6.0 in /usr/local/lib/python3.10/dist-packages (from TensorFlow) (1.6.3)\n",
            "Requirement already satisfied: flatbuffers>=23.5.26 in /usr/local/lib/python3.10/dist-packages (from TensorFlow) (23.5.26)\n",
            "Requirement already satisfied: gast!=0.5.0,!=0.5.1,!=0.5.2,>=0.2.1 in /usr/local/lib/python3.10/dist-packages (from TensorFlow) (0.5.4)\n",
            "Requirement already satisfied: google-pasta>=0.1.1 in /usr/local/lib/python3.10/dist-packages (from TensorFlow) (0.2.0)\n",
            "Requirement already satisfied: h5py>=2.9.0 in /usr/local/lib/python3.10/dist-packages (from TensorFlow) (3.9.0)\n",
            "Requirement already satisfied: libclang>=13.0.0 in /usr/local/lib/python3.10/dist-packages (from TensorFlow) (16.0.6)\n",
            "Requirement already satisfied: ml-dtypes==0.2.0 in /usr/local/lib/python3.10/dist-packages (from TensorFlow) (0.2.0)\n",
            "Requirement already satisfied: numpy>=1.23.5 in /usr/local/lib/python3.10/dist-packages (from TensorFlow) (1.23.5)\n",
            "Requirement already satisfied: opt-einsum>=2.3.2 in /usr/local/lib/python3.10/dist-packages (from TensorFlow) (3.3.0)\n",
            "Requirement already satisfied: packaging in /usr/local/lib/python3.10/dist-packages (from TensorFlow) (23.2)\n",
            "Requirement already satisfied: protobuf!=4.21.0,!=4.21.1,!=4.21.2,!=4.21.3,!=4.21.4,!=4.21.5,<5.0.0dev,>=3.20.3 in /usr/local/lib/python3.10/dist-packages (from TensorFlow) (3.20.3)\n",
            "Requirement already satisfied: setuptools in /usr/local/lib/python3.10/dist-packages (from TensorFlow) (67.7.2)\n",
            "Requirement already satisfied: six>=1.12.0 in /usr/local/lib/python3.10/dist-packages (from TensorFlow) (1.16.0)\n",
            "Requirement already satisfied: termcolor>=1.1.0 in /usr/local/lib/python3.10/dist-packages (from TensorFlow) (2.4.0)\n",
            "Requirement already satisfied: typing-extensions>=3.6.6 in /usr/local/lib/python3.10/dist-packages (from TensorFlow) (4.5.0)\n",
            "Requirement already satisfied: wrapt<1.15,>=1.11.0 in /usr/local/lib/python3.10/dist-packages (from TensorFlow) (1.14.1)\n",
            "Requirement already satisfied: tensorflow-io-gcs-filesystem>=0.23.1 in /usr/local/lib/python3.10/dist-packages (from TensorFlow) (0.34.0)\n",
            "Requirement already satisfied: grpcio<2.0,>=1.24.3 in /usr/local/lib/python3.10/dist-packages (from TensorFlow) (1.59.3)\n",
            "Requirement already satisfied: tensorboard<2.15,>=2.14 in /usr/local/lib/python3.10/dist-packages (from TensorFlow) (2.14.1)\n",
            "Requirement already satisfied: tensorflow-estimator<2.15,>=2.14.0 in /usr/local/lib/python3.10/dist-packages (from TensorFlow) (2.14.0)\n",
            "Requirement already satisfied: keras<2.15,>=2.14.0 in /usr/local/lib/python3.10/dist-packages (from TensorFlow) (2.14.0)\n",
            "Requirement already satisfied: wheel<1.0,>=0.23.0 in /usr/local/lib/python3.10/dist-packages (from astunparse>=1.6.0->TensorFlow) (0.42.0)\n",
            "Requirement already satisfied: google-auth<3,>=1.6.3 in /usr/local/lib/python3.10/dist-packages (from tensorboard<2.15,>=2.14->TensorFlow) (2.17.3)\n",
            "Requirement already satisfied: google-auth-oauthlib<1.1,>=0.5 in /usr/local/lib/python3.10/dist-packages (from tensorboard<2.15,>=2.14->TensorFlow) (1.0.0)\n",
            "Requirement already satisfied: markdown>=2.6.8 in /usr/local/lib/python3.10/dist-packages (from tensorboard<2.15,>=2.14->TensorFlow) (3.5.1)\n",
            "Requirement already satisfied: requests<3,>=2.21.0 in /usr/local/lib/python3.10/dist-packages (from tensorboard<2.15,>=2.14->TensorFlow) (2.31.0)\n",
            "Requirement already satisfied: tensorboard-data-server<0.8.0,>=0.7.0 in /usr/local/lib/python3.10/dist-packages (from tensorboard<2.15,>=2.14->TensorFlow) (0.7.2)\n",
            "Requirement already satisfied: werkzeug>=1.0.1 in /usr/local/lib/python3.10/dist-packages (from tensorboard<2.15,>=2.14->TensorFlow) (3.0.1)\n",
            "Requirement already satisfied: cachetools<6.0,>=2.0.0 in /usr/local/lib/python3.10/dist-packages (from google-auth<3,>=1.6.3->tensorboard<2.15,>=2.14->TensorFlow) (5.3.2)\n",
            "Requirement already satisfied: pyasn1-modules>=0.2.1 in /usr/local/lib/python3.10/dist-packages (from google-auth<3,>=1.6.3->tensorboard<2.15,>=2.14->TensorFlow) (0.3.0)\n",
            "Requirement already satisfied: rsa<5,>=3.1.4 in /usr/local/lib/python3.10/dist-packages (from google-auth<3,>=1.6.3->tensorboard<2.15,>=2.14->TensorFlow) (4.9)\n",
            "Requirement already satisfied: requests-oauthlib>=0.7.0 in /usr/local/lib/python3.10/dist-packages (from google-auth-oauthlib<1.1,>=0.5->tensorboard<2.15,>=2.14->TensorFlow) (1.3.1)\n",
            "Requirement already satisfied: charset-normalizer<4,>=2 in /usr/local/lib/python3.10/dist-packages (from requests<3,>=2.21.0->tensorboard<2.15,>=2.14->TensorFlow) (3.3.2)\n",
            "Requirement already satisfied: idna<4,>=2.5 in /usr/local/lib/python3.10/dist-packages (from requests<3,>=2.21.0->tensorboard<2.15,>=2.14->TensorFlow) (3.6)\n",
            "Requirement already satisfied: urllib3<3,>=1.21.1 in /usr/local/lib/python3.10/dist-packages (from requests<3,>=2.21.0->tensorboard<2.15,>=2.14->TensorFlow) (2.0.7)\n",
            "Requirement already satisfied: certifi>=2017.4.17 in /usr/local/lib/python3.10/dist-packages (from requests<3,>=2.21.0->tensorboard<2.15,>=2.14->TensorFlow) (2023.11.17)\n",
            "Requirement already satisfied: MarkupSafe>=2.1.1 in /usr/local/lib/python3.10/dist-packages (from werkzeug>=1.0.1->tensorboard<2.15,>=2.14->TensorFlow) (2.1.3)\n",
            "Requirement already satisfied: pyasn1<0.6.0,>=0.4.6 in /usr/local/lib/python3.10/dist-packages (from pyasn1-modules>=0.2.1->google-auth<3,>=1.6.3->tensorboard<2.15,>=2.14->TensorFlow) (0.5.1)\n",
            "Requirement already satisfied: oauthlib>=3.0.0 in /usr/local/lib/python3.10/dist-packages (from requests-oauthlib>=0.7.0->google-auth-oauthlib<1.1,>=0.5->tensorboard<2.15,>=2.14->TensorFlow) (3.2.2)\n"
          ]
        }
      ]
    },
    {
      "cell_type": "code",
      "source": [
        "!pip install sentencepiece"
      ],
      "metadata": {
        "id": "4u2WpzaLDkLl"
      },
      "execution_count": null,
      "outputs": []
    },
    {
      "cell_type": "code",
      "source": [
        "#all the imports for our multiple file for the project. Some are not used here\n",
        "import numpy as np\n",
        "import pandas as pd\n",
        "from sklearn.metrics import precision_score, recall_score, f1_score, accuracy_score\n",
        "from sklearn.feature_extraction.text import TfidfVectorizer\n",
        "import re\n",
        "from sklearn.preprocessing import LabelEncoder\n",
        "from sklearn.model_selection import train_test_split\n",
        "from sklearn.linear_model import LogisticRegression, LogisticRegressionCV\n",
        "from sklearn.metrics import classification_report\n",
        "import joblib\n",
        "import nltk\n",
        "from nltk.stem import WordNetLemmatizer\n",
        "from nltk.corpus import stopwords\n",
        "from nltk.tokenize import word_tokenize\n",
        "from nltk.probability import FreqDist\n",
        "import spacy\n",
        "from sklearn.feature_extraction.text import CountVectorizer\n",
        "from sklearn.ensemble import RandomForestClassifier\n",
        "from sklearn.neighbors import KNeighborsClassifier\n",
        "from sklearn.tree import DecisionTreeClassifier\n",
        "from sklearn.model_selection import GridSearchCV\n",
        "from transformers import BertTokenizer, BertForSequenceClassification, AdamW, get_linear_schedule_with_warmup, CamembertTokenizer\n",
        "from torch.utils.data import DataLoader, RandomSampler, SequentialSampler, TensorDataset\n",
        "from tqdm import tqdm\n",
        "import torch\n",
        "import huggingface_hub\n",
        "import matplotlib.pyplot as plt\n",
        "import seaborn as sns\n",
        "from sklearn.metrics import confusion_matrix"
      ],
      "metadata": {
        "id": "Ma_9gXbtZA_n"
      },
      "execution_count": 3,
      "outputs": []
    },
    {
      "cell_type": "markdown",
      "source": [
        "We have our GIT repository here with the data files. So we clone it for the session and we just observe how is our data."
      ],
      "metadata": {
        "id": "d_tjGZNDl-Ap"
      }
    },
    {
      "cell_type": "code",
      "source": [
        "#load data\n",
        "\n",
        "!git clone https://github.com/melvin2504/Detecting-the-difficulty-level-of-French-texts/ project_repo"
      ],
      "metadata": {
        "id": "NdjpoU2dcixi",
        "colab": {
          "base_uri": "https://localhost:8080/"
        },
        "outputId": "0ab0cc67-c5f3-4cc6-f52a-e3acfbbdc8ff"
      },
      "execution_count": 4,
      "outputs": [
        {
          "output_type": "stream",
          "name": "stdout",
          "text": [
            "Cloning into 'project_repo'...\n",
            "remote: Enumerating objects: 74, done.\u001b[K\n",
            "remote: Counting objects: 100% (8/8), done.\u001b[K\n",
            "remote: Compressing objects: 100% (7/7), done.\u001b[K\n",
            "remote: Total 74 (delta 6), reused 1 (delta 1), pack-reused 66\u001b[K\n",
            "Receiving objects: 100% (74/74), 1.31 MiB | 3.71 MiB/s, done.\n",
            "Resolving deltas: 100% (21/21), done.\n"
          ]
        }
      ]
    },
    {
      "cell_type": "code",
      "execution_count": 5,
      "metadata": {
        "id": "Osl0RmfRSUTC"
      },
      "outputs": [],
      "source": [
        "df = pd.read_csv(\"/content/project_repo/data/training_data.csv\")\n",
        "unlabeled_df = pd.read_csv(\"/content/project_repo/data/unlabelled_test_data.csv\")"
      ]
    },
    {
      "cell_type": "code",
      "source": [
        "# Display the first few rows of the dataframe\n",
        "df.head(20)"
      ],
      "metadata": {
        "id": "zFxCEsy3Z1qz"
      },
      "execution_count": null,
      "outputs": []
    },
    {
      "cell_type": "code",
      "source": [
        "# Basic info about the dataset\n",
        "print(df.info())"
      ],
      "metadata": {
        "id": "b95O-EqGZ_ON"
      },
      "execution_count": null,
      "outputs": []
    },
    {
      "cell_type": "code",
      "source": [
        "# Distribution of difficulty levels\n",
        "print(df['difficulty'].value_counts())"
      ],
      "metadata": {
        "id": "_oecE98snGKY"
      },
      "execution_count": null,
      "outputs": []
    },
    {
      "cell_type": "markdown",
      "source": [
        "### **Enhancing Textual Data with Linguistic Features**\n",
        "In this section of the notebook, we aim to enrich our French textual dataset with various linguistic features. These additional features are intended to capture more nuanced aspects of the text, which can be highly beneficial for downstream Natural Language Processing (NLP) tasks, such as difficulty level assessment.\n",
        "\n",
        "### **Overview of the Process**\n",
        "We start by importing necessary NLP libraries: nltk for basic text processing functions and spacy for more advanced linguistic analysis. The spacy library, with its fr_core_news_lg model, is particularly adept at handling French language text.\n",
        "\n",
        "### **Features Extracted**\n",
        "**Sentence Length**: Measured as the number of words in a sentence. This feature can indicate the complexity and information density of the text.\n",
        "\n",
        "**Average Word Length**: Computed as the average number of characters per word. This can be a marker of lexical sophistication or difficulty.\n",
        "\n",
        "**Lexical Diversity**: Represents the ratio of unique words to the total number of words. Higher lexical diversity suggests richer vocabulary usage.\n",
        "\n",
        "**Syntactic Complexity**: Assessed by counting the number of sentences within a text segment, using spacy's sentence parsing. This metric reflects the structural complexity of the text.\n",
        "\n",
        "**Part-of-Speech (POS) Counts**: We utilize spacy to count the frequency of different grammatical categories (nouns, verbs, adjectives, etc.). This distribution can offer insights into the grammatical composition of the text.\n",
        "\n",
        "### **Application to DataFrame**\n",
        "Each feature extraction function is applied to the sentence column of our DataFrame df. The results are new columns, each representing a different linguistic feature. Additionally, we create a separate DataFrame pos_df for POS counts and concatenate it with our original DataFrame, allowing us to integrate all these features into our dataset.\n",
        "\n",
        "**Purpose**\n",
        "\n",
        "By incorporating these linguistic features, we aim to provide a more comprehensive dataset that encapsulates various aspects of language use. These features are expected to enhance the performance of machine learning models, enabling them to make more informed decisions based on a richer set of inputs."
      ],
      "metadata": {
        "id": "NoNuVl9umY0F"
      }
    },
    {
      "cell_type": "code",
      "source": [
        "!python -m spacy download fr_core_news_lg"
      ],
      "metadata": {
        "colab": {
          "base_uri": "https://localhost:8080/"
        },
        "id": "U-C3iQA_UYr9",
        "outputId": "d2924ed9-6301-4328-e188-08fca3e939fb"
      },
      "execution_count": 6,
      "outputs": [
        {
          "output_type": "stream",
          "name": "stdout",
          "text": [
            "2023-12-14 09:40:28.007771: E tensorflow/compiler/xla/stream_executor/cuda/cuda_dnn.cc:9342] Unable to register cuDNN factory: Attempting to register factory for plugin cuDNN when one has already been registered\n",
            "2023-12-14 09:40:28.007861: E tensorflow/compiler/xla/stream_executor/cuda/cuda_fft.cc:609] Unable to register cuFFT factory: Attempting to register factory for plugin cuFFT when one has already been registered\n",
            "2023-12-14 09:40:28.007901: E tensorflow/compiler/xla/stream_executor/cuda/cuda_blas.cc:1518] Unable to register cuBLAS factory: Attempting to register factory for plugin cuBLAS when one has already been registered\n",
            "2023-12-14 09:40:30.886363: W tensorflow/compiler/tf2tensorrt/utils/py_utils.cc:38] TF-TRT Warning: Could not find TensorRT\n",
            "Collecting fr-core-news-lg==3.6.0\n",
            "  Downloading https://github.com/explosion/spacy-models/releases/download/fr_core_news_lg-3.6.0/fr_core_news_lg-3.6.0-py3-none-any.whl (571.8 MB)\n",
            "\u001b[2K     \u001b[90m━━━━━━━━━━━━━━━━━━━━━━━━━━━━━━━━━━━━━━━━\u001b[0m \u001b[32m571.8/571.8 MB\u001b[0m \u001b[31m1.2 MB/s\u001b[0m eta \u001b[36m0:00:00\u001b[0m\n",
            "\u001b[?25hRequirement already satisfied: spacy<3.7.0,>=3.6.0 in /usr/local/lib/python3.10/dist-packages (from fr-core-news-lg==3.6.0) (3.6.1)\n",
            "Requirement already satisfied: spacy-legacy<3.1.0,>=3.0.11 in /usr/local/lib/python3.10/dist-packages (from spacy<3.7.0,>=3.6.0->fr-core-news-lg==3.6.0) (3.0.12)\n",
            "Requirement already satisfied: spacy-loggers<2.0.0,>=1.0.0 in /usr/local/lib/python3.10/dist-packages (from spacy<3.7.0,>=3.6.0->fr-core-news-lg==3.6.0) (1.0.5)\n",
            "Requirement already satisfied: murmurhash<1.1.0,>=0.28.0 in /usr/local/lib/python3.10/dist-packages (from spacy<3.7.0,>=3.6.0->fr-core-news-lg==3.6.0) (1.0.10)\n",
            "Requirement already satisfied: cymem<2.1.0,>=2.0.2 in /usr/local/lib/python3.10/dist-packages (from spacy<3.7.0,>=3.6.0->fr-core-news-lg==3.6.0) (2.0.8)\n",
            "Requirement already satisfied: preshed<3.1.0,>=3.0.2 in /usr/local/lib/python3.10/dist-packages (from spacy<3.7.0,>=3.6.0->fr-core-news-lg==3.6.0) (3.0.9)\n",
            "Requirement already satisfied: thinc<8.2.0,>=8.1.8 in /usr/local/lib/python3.10/dist-packages (from spacy<3.7.0,>=3.6.0->fr-core-news-lg==3.6.0) (8.1.12)\n",
            "Requirement already satisfied: wasabi<1.2.0,>=0.9.1 in /usr/local/lib/python3.10/dist-packages (from spacy<3.7.0,>=3.6.0->fr-core-news-lg==3.6.0) (1.1.2)\n",
            "Requirement already satisfied: srsly<3.0.0,>=2.4.3 in /usr/local/lib/python3.10/dist-packages (from spacy<3.7.0,>=3.6.0->fr-core-news-lg==3.6.0) (2.4.8)\n",
            "Requirement already satisfied: catalogue<2.1.0,>=2.0.6 in /usr/local/lib/python3.10/dist-packages (from spacy<3.7.0,>=3.6.0->fr-core-news-lg==3.6.0) (2.0.10)\n",
            "Requirement already satisfied: typer<0.10.0,>=0.3.0 in /usr/local/lib/python3.10/dist-packages (from spacy<3.7.0,>=3.6.0->fr-core-news-lg==3.6.0) (0.9.0)\n",
            "Requirement already satisfied: pathy>=0.10.0 in /usr/local/lib/python3.10/dist-packages (from spacy<3.7.0,>=3.6.0->fr-core-news-lg==3.6.0) (0.10.3)\n",
            "Requirement already satisfied: smart-open<7.0.0,>=5.2.1 in /usr/local/lib/python3.10/dist-packages (from spacy<3.7.0,>=3.6.0->fr-core-news-lg==3.6.0) (6.4.0)\n",
            "Requirement already satisfied: tqdm<5.0.0,>=4.38.0 in /usr/local/lib/python3.10/dist-packages (from spacy<3.7.0,>=3.6.0->fr-core-news-lg==3.6.0) (4.66.1)\n",
            "Requirement already satisfied: numpy>=1.15.0 in /usr/local/lib/python3.10/dist-packages (from spacy<3.7.0,>=3.6.0->fr-core-news-lg==3.6.0) (1.23.5)\n",
            "Requirement already satisfied: requests<3.0.0,>=2.13.0 in /usr/local/lib/python3.10/dist-packages (from spacy<3.7.0,>=3.6.0->fr-core-news-lg==3.6.0) (2.31.0)\n",
            "Requirement already satisfied: pydantic!=1.8,!=1.8.1,<3.0.0,>=1.7.4 in /usr/local/lib/python3.10/dist-packages (from spacy<3.7.0,>=3.6.0->fr-core-news-lg==3.6.0) (1.10.13)\n",
            "Requirement already satisfied: jinja2 in /usr/local/lib/python3.10/dist-packages (from spacy<3.7.0,>=3.6.0->fr-core-news-lg==3.6.0) (3.1.2)\n",
            "Requirement already satisfied: setuptools in /usr/local/lib/python3.10/dist-packages (from spacy<3.7.0,>=3.6.0->fr-core-news-lg==3.6.0) (67.7.2)\n",
            "Requirement already satisfied: packaging>=20.0 in /usr/local/lib/python3.10/dist-packages (from spacy<3.7.0,>=3.6.0->fr-core-news-lg==3.6.0) (23.2)\n",
            "Requirement already satisfied: langcodes<4.0.0,>=3.2.0 in /usr/local/lib/python3.10/dist-packages (from spacy<3.7.0,>=3.6.0->fr-core-news-lg==3.6.0) (3.3.0)\n",
            "Requirement already satisfied: typing-extensions>=4.2.0 in /usr/local/lib/python3.10/dist-packages (from pydantic!=1.8,!=1.8.1,<3.0.0,>=1.7.4->spacy<3.7.0,>=3.6.0->fr-core-news-lg==3.6.0) (4.5.0)\n",
            "Requirement already satisfied: charset-normalizer<4,>=2 in /usr/local/lib/python3.10/dist-packages (from requests<3.0.0,>=2.13.0->spacy<3.7.0,>=3.6.0->fr-core-news-lg==3.6.0) (3.3.2)\n",
            "Requirement already satisfied: idna<4,>=2.5 in /usr/local/lib/python3.10/dist-packages (from requests<3.0.0,>=2.13.0->spacy<3.7.0,>=3.6.0->fr-core-news-lg==3.6.0) (3.6)\n",
            "Requirement already satisfied: urllib3<3,>=1.21.1 in /usr/local/lib/python3.10/dist-packages (from requests<3.0.0,>=2.13.0->spacy<3.7.0,>=3.6.0->fr-core-news-lg==3.6.0) (2.0.7)\n",
            "Requirement already satisfied: certifi>=2017.4.17 in /usr/local/lib/python3.10/dist-packages (from requests<3.0.0,>=2.13.0->spacy<3.7.0,>=3.6.0->fr-core-news-lg==3.6.0) (2023.11.17)\n",
            "Requirement already satisfied: blis<0.8.0,>=0.7.8 in /usr/local/lib/python3.10/dist-packages (from thinc<8.2.0,>=8.1.8->spacy<3.7.0,>=3.6.0->fr-core-news-lg==3.6.0) (0.7.11)\n",
            "Requirement already satisfied: confection<1.0.0,>=0.0.1 in /usr/local/lib/python3.10/dist-packages (from thinc<8.2.0,>=8.1.8->spacy<3.7.0,>=3.6.0->fr-core-news-lg==3.6.0) (0.1.4)\n",
            "Requirement already satisfied: click<9.0.0,>=7.1.1 in /usr/local/lib/python3.10/dist-packages (from typer<0.10.0,>=0.3.0->spacy<3.7.0,>=3.6.0->fr-core-news-lg==3.6.0) (8.1.7)\n",
            "Requirement already satisfied: MarkupSafe>=2.0 in /usr/local/lib/python3.10/dist-packages (from jinja2->spacy<3.7.0,>=3.6.0->fr-core-news-lg==3.6.0) (2.1.3)\n",
            "Installing collected packages: fr-core-news-lg\n",
            "Successfully installed fr-core-news-lg-3.6.0\n",
            "\u001b[38;5;2m✔ Download and installation successful\u001b[0m\n",
            "You can now load the package via spacy.load('fr_core_news_lg')\n"
          ]
        }
      ]
    },
    {
      "cell_type": "code",
      "source": [
        "\n",
        "nltk.download('punkt')\n",
        "nltk.download('averaged_perceptron_tagger')\n",
        "nltk.download('stopwords')\n",
        "spacy_nlp = spacy.load('fr_core_news_lg')\n",
        "nltk.download('wordnet')\n",
        "\n",
        "\n",
        "\n",
        "\n",
        "\n",
        "\n",
        "def sentence_length(sentence):\n",
        "    return len(word_tokenize(sentence, language='french'))\n",
        "\n",
        "def avg_word_length(sentence):\n",
        "    words = word_tokenize(sentence, language='french')\n",
        "    return sum(len(word) for word in words) / len(words) if words else 0\n",
        "\n",
        "def lexical_diversity(sentence):\n",
        "    words = word_tokenize(sentence, language='french')\n",
        "    return len(set(words)) / len(words) if words else 0\n",
        "\n",
        "def syntactic_complexity(sentence):\n",
        "    doc = spacy_nlp(sentence)\n",
        "    return sum(1 for _ in doc.sents)  # Example: counting number of sentences\n",
        "\n",
        "# Apply the functions to the dataframe\n",
        "df['sentence_length'] = df['sentence'].apply(sentence_length)\n",
        "df['avg_word_length'] = df['sentence'].apply(avg_word_length)\n",
        "df['lexical_diversity'] = df['sentence'].apply(lexical_diversity)\n",
        "df['syntactic_complexity'] = df['sentence'].apply(syntactic_complexity)\n",
        "\n",
        "# For POS counts, create a function that returns a dictionary of counts\n",
        "def pos_counts(sentence):\n",
        "    doc = spacy_nlp(sentence)\n",
        "    counts = {}\n",
        "    for token in doc:\n",
        "        counts[token.pos_] = counts.get(token.pos_, 0) + 1\n",
        "    return counts\n",
        "\n",
        "# Apply the POS count function\n",
        "df_pos = df['sentence'].apply(pos_counts)\n",
        "pos_df = pd.DataFrame(list(df_pos))\n",
        "df = pd.concat([df, pos_df], axis=1)\n",
        "\n",
        "# Display the first few rows with new features\n",
        "df.head()"
      ],
      "metadata": {
        "colab": {
          "base_uri": "https://localhost:8080/",
          "height": 375
        },
        "id": "wBD2gmnBnN_N",
        "outputId": "83a1ae1c-94a9-4bb9-df08-7b2bffe6c744"
      },
      "execution_count": 7,
      "outputs": [
        {
          "output_type": "stream",
          "name": "stderr",
          "text": [
            "[nltk_data] Downloading package punkt to /root/nltk_data...\n",
            "[nltk_data]   Unzipping tokenizers/punkt.zip.\n",
            "[nltk_data] Downloading package averaged_perceptron_tagger to\n",
            "[nltk_data]     /root/nltk_data...\n",
            "[nltk_data]   Unzipping taggers/averaged_perceptron_tagger.zip.\n",
            "[nltk_data] Downloading package stopwords to /root/nltk_data...\n",
            "[nltk_data]   Unzipping corpora/stopwords.zip.\n",
            "[nltk_data] Downloading package wordnet to /root/nltk_data...\n"
          ]
        },
        {
          "output_type": "execute_result",
          "data": {
            "text/plain": [
              "   id                                           sentence difficulty  \\\n",
              "0   0  Les coûts kilométriques réels peuvent diverger...         C1   \n",
              "1   1  Le bleu, c'est ma couleur préférée mais je n'a...         A1   \n",
              "2   2  Le test de niveau en français est sur le site ...         A1   \n",
              "3   3           Est-ce que ton mari est aussi de Boston?         A1   \n",
              "4   4  Dans les écoles de commerce, dans les couloirs...         B1   \n",
              "\n",
              "   sentence_length  avg_word_length  lexical_diversity  syntactic_complexity  \\\n",
              "0               44         4.954545           0.704545                     1   \n",
              "1               14         3.642857           1.000000                     1   \n",
              "2               14         3.857143           0.928571                     1   \n",
              "3                9         3.666667           1.000000                     1   \n",
              "4               39         4.564103           0.794872                     1   \n",
              "\n",
              "   DET  NOUN  ADJ  ...  PUNCT  CCONJ  PRON  AUX  PROPN  SCONJ  NUM  SYM   X  \\\n",
              "0  3.0  14.0  3.0  ...    5.0    1.0   NaN  NaN    NaN    NaN  NaN  NaN NaN   \n",
              "1  3.0   3.0  1.0  ...    2.0    1.0   2.0  1.0    NaN    NaN  NaN  NaN NaN   \n",
              "2  3.0   4.0  1.0  ...    1.0    NaN   NaN  NaN    1.0    NaN  NaN  NaN NaN   \n",
              "3  1.0   2.0  NaN  ...    1.0    NaN   1.0  1.0    1.0    1.0  NaN  NaN NaN   \n",
              "4  5.0  10.0  2.0  ...    5.0    1.0   2.0  NaN    NaN    NaN  2.0  NaN NaN   \n",
              "\n",
              "   INTJ  \n",
              "0   NaN  \n",
              "1   NaN  \n",
              "2   NaN  \n",
              "3   NaN  \n",
              "4   NaN  \n",
              "\n",
              "[5 rows x 23 columns]"
            ],
            "text/html": [
              "\n",
              "  <div id=\"df-4e23f69f-5ce0-47bf-9608-5157971a04b5\" class=\"colab-df-container\">\n",
              "    <div>\n",
              "<style scoped>\n",
              "    .dataframe tbody tr th:only-of-type {\n",
              "        vertical-align: middle;\n",
              "    }\n",
              "\n",
              "    .dataframe tbody tr th {\n",
              "        vertical-align: top;\n",
              "    }\n",
              "\n",
              "    .dataframe thead th {\n",
              "        text-align: right;\n",
              "    }\n",
              "</style>\n",
              "<table border=\"1\" class=\"dataframe\">\n",
              "  <thead>\n",
              "    <tr style=\"text-align: right;\">\n",
              "      <th></th>\n",
              "      <th>id</th>\n",
              "      <th>sentence</th>\n",
              "      <th>difficulty</th>\n",
              "      <th>sentence_length</th>\n",
              "      <th>avg_word_length</th>\n",
              "      <th>lexical_diversity</th>\n",
              "      <th>syntactic_complexity</th>\n",
              "      <th>DET</th>\n",
              "      <th>NOUN</th>\n",
              "      <th>ADJ</th>\n",
              "      <th>...</th>\n",
              "      <th>PUNCT</th>\n",
              "      <th>CCONJ</th>\n",
              "      <th>PRON</th>\n",
              "      <th>AUX</th>\n",
              "      <th>PROPN</th>\n",
              "      <th>SCONJ</th>\n",
              "      <th>NUM</th>\n",
              "      <th>SYM</th>\n",
              "      <th>X</th>\n",
              "      <th>INTJ</th>\n",
              "    </tr>\n",
              "  </thead>\n",
              "  <tbody>\n",
              "    <tr>\n",
              "      <th>0</th>\n",
              "      <td>0</td>\n",
              "      <td>Les coûts kilométriques réels peuvent diverger...</td>\n",
              "      <td>C1</td>\n",
              "      <td>44</td>\n",
              "      <td>4.954545</td>\n",
              "      <td>0.704545</td>\n",
              "      <td>1</td>\n",
              "      <td>3.0</td>\n",
              "      <td>14.0</td>\n",
              "      <td>3.0</td>\n",
              "      <td>...</td>\n",
              "      <td>5.0</td>\n",
              "      <td>1.0</td>\n",
              "      <td>NaN</td>\n",
              "      <td>NaN</td>\n",
              "      <td>NaN</td>\n",
              "      <td>NaN</td>\n",
              "      <td>NaN</td>\n",
              "      <td>NaN</td>\n",
              "      <td>NaN</td>\n",
              "      <td>NaN</td>\n",
              "    </tr>\n",
              "    <tr>\n",
              "      <th>1</th>\n",
              "      <td>1</td>\n",
              "      <td>Le bleu, c'est ma couleur préférée mais je n'a...</td>\n",
              "      <td>A1</td>\n",
              "      <td>14</td>\n",
              "      <td>3.642857</td>\n",
              "      <td>1.000000</td>\n",
              "      <td>1</td>\n",
              "      <td>3.0</td>\n",
              "      <td>3.0</td>\n",
              "      <td>1.0</td>\n",
              "      <td>...</td>\n",
              "      <td>2.0</td>\n",
              "      <td>1.0</td>\n",
              "      <td>2.0</td>\n",
              "      <td>1.0</td>\n",
              "      <td>NaN</td>\n",
              "      <td>NaN</td>\n",
              "      <td>NaN</td>\n",
              "      <td>NaN</td>\n",
              "      <td>NaN</td>\n",
              "      <td>NaN</td>\n",
              "    </tr>\n",
              "    <tr>\n",
              "      <th>2</th>\n",
              "      <td>2</td>\n",
              "      <td>Le test de niveau en français est sur le site ...</td>\n",
              "      <td>A1</td>\n",
              "      <td>14</td>\n",
              "      <td>3.857143</td>\n",
              "      <td>0.928571</td>\n",
              "      <td>1</td>\n",
              "      <td>3.0</td>\n",
              "      <td>4.0</td>\n",
              "      <td>1.0</td>\n",
              "      <td>...</td>\n",
              "      <td>1.0</td>\n",
              "      <td>NaN</td>\n",
              "      <td>NaN</td>\n",
              "      <td>NaN</td>\n",
              "      <td>1.0</td>\n",
              "      <td>NaN</td>\n",
              "      <td>NaN</td>\n",
              "      <td>NaN</td>\n",
              "      <td>NaN</td>\n",
              "      <td>NaN</td>\n",
              "    </tr>\n",
              "    <tr>\n",
              "      <th>3</th>\n",
              "      <td>3</td>\n",
              "      <td>Est-ce que ton mari est aussi de Boston?</td>\n",
              "      <td>A1</td>\n",
              "      <td>9</td>\n",
              "      <td>3.666667</td>\n",
              "      <td>1.000000</td>\n",
              "      <td>1</td>\n",
              "      <td>1.0</td>\n",
              "      <td>2.0</td>\n",
              "      <td>NaN</td>\n",
              "      <td>...</td>\n",
              "      <td>1.0</td>\n",
              "      <td>NaN</td>\n",
              "      <td>1.0</td>\n",
              "      <td>1.0</td>\n",
              "      <td>1.0</td>\n",
              "      <td>1.0</td>\n",
              "      <td>NaN</td>\n",
              "      <td>NaN</td>\n",
              "      <td>NaN</td>\n",
              "      <td>NaN</td>\n",
              "    </tr>\n",
              "    <tr>\n",
              "      <th>4</th>\n",
              "      <td>4</td>\n",
              "      <td>Dans les écoles de commerce, dans les couloirs...</td>\n",
              "      <td>B1</td>\n",
              "      <td>39</td>\n",
              "      <td>4.564103</td>\n",
              "      <td>0.794872</td>\n",
              "      <td>1</td>\n",
              "      <td>5.0</td>\n",
              "      <td>10.0</td>\n",
              "      <td>2.0</td>\n",
              "      <td>...</td>\n",
              "      <td>5.0</td>\n",
              "      <td>1.0</td>\n",
              "      <td>2.0</td>\n",
              "      <td>NaN</td>\n",
              "      <td>NaN</td>\n",
              "      <td>NaN</td>\n",
              "      <td>2.0</td>\n",
              "      <td>NaN</td>\n",
              "      <td>NaN</td>\n",
              "      <td>NaN</td>\n",
              "    </tr>\n",
              "  </tbody>\n",
              "</table>\n",
              "<p>5 rows × 23 columns</p>\n",
              "</div>\n",
              "    <div class=\"colab-df-buttons\">\n",
              "\n",
              "  <div class=\"colab-df-container\">\n",
              "    <button class=\"colab-df-convert\" onclick=\"convertToInteractive('df-4e23f69f-5ce0-47bf-9608-5157971a04b5')\"\n",
              "            title=\"Convert this dataframe to an interactive table.\"\n",
              "            style=\"display:none;\">\n",
              "\n",
              "  <svg xmlns=\"http://www.w3.org/2000/svg\" height=\"24px\" viewBox=\"0 -960 960 960\">\n",
              "    <path d=\"M120-120v-720h720v720H120Zm60-500h600v-160H180v160Zm220 220h160v-160H400v160Zm0 220h160v-160H400v160ZM180-400h160v-160H180v160Zm440 0h160v-160H620v160ZM180-180h160v-160H180v160Zm440 0h160v-160H620v160Z\"/>\n",
              "  </svg>\n",
              "    </button>\n",
              "\n",
              "  <style>\n",
              "    .colab-df-container {\n",
              "      display:flex;\n",
              "      gap: 12px;\n",
              "    }\n",
              "\n",
              "    .colab-df-convert {\n",
              "      background-color: #E8F0FE;\n",
              "      border: none;\n",
              "      border-radius: 50%;\n",
              "      cursor: pointer;\n",
              "      display: none;\n",
              "      fill: #1967D2;\n",
              "      height: 32px;\n",
              "      padding: 0 0 0 0;\n",
              "      width: 32px;\n",
              "    }\n",
              "\n",
              "    .colab-df-convert:hover {\n",
              "      background-color: #E2EBFA;\n",
              "      box-shadow: 0px 1px 2px rgba(60, 64, 67, 0.3), 0px 1px 3px 1px rgba(60, 64, 67, 0.15);\n",
              "      fill: #174EA6;\n",
              "    }\n",
              "\n",
              "    .colab-df-buttons div {\n",
              "      margin-bottom: 4px;\n",
              "    }\n",
              "\n",
              "    [theme=dark] .colab-df-convert {\n",
              "      background-color: #3B4455;\n",
              "      fill: #D2E3FC;\n",
              "    }\n",
              "\n",
              "    [theme=dark] .colab-df-convert:hover {\n",
              "      background-color: #434B5C;\n",
              "      box-shadow: 0px 1px 3px 1px rgba(0, 0, 0, 0.15);\n",
              "      filter: drop-shadow(0px 1px 2px rgba(0, 0, 0, 0.3));\n",
              "      fill: #FFFFFF;\n",
              "    }\n",
              "  </style>\n",
              "\n",
              "    <script>\n",
              "      const buttonEl =\n",
              "        document.querySelector('#df-4e23f69f-5ce0-47bf-9608-5157971a04b5 button.colab-df-convert');\n",
              "      buttonEl.style.display =\n",
              "        google.colab.kernel.accessAllowed ? 'block' : 'none';\n",
              "\n",
              "      async function convertToInteractive(key) {\n",
              "        const element = document.querySelector('#df-4e23f69f-5ce0-47bf-9608-5157971a04b5');\n",
              "        const dataTable =\n",
              "          await google.colab.kernel.invokeFunction('convertToInteractive',\n",
              "                                                    [key], {});\n",
              "        if (!dataTable) return;\n",
              "\n",
              "        const docLinkHtml = 'Like what you see? Visit the ' +\n",
              "          '<a target=\"_blank\" href=https://colab.research.google.com/notebooks/data_table.ipynb>data table notebook</a>'\n",
              "          + ' to learn more about interactive tables.';\n",
              "        element.innerHTML = '';\n",
              "        dataTable['output_type'] = 'display_data';\n",
              "        await google.colab.output.renderOutput(dataTable, element);\n",
              "        const docLink = document.createElement('div');\n",
              "        docLink.innerHTML = docLinkHtml;\n",
              "        element.appendChild(docLink);\n",
              "      }\n",
              "    </script>\n",
              "  </div>\n",
              "\n",
              "\n",
              "<div id=\"df-35a465e0-d6d3-4b49-af42-fe84732b5a90\">\n",
              "  <button class=\"colab-df-quickchart\" onclick=\"quickchart('df-35a465e0-d6d3-4b49-af42-fe84732b5a90')\"\n",
              "            title=\"Suggest charts\"\n",
              "            style=\"display:none;\">\n",
              "\n",
              "<svg xmlns=\"http://www.w3.org/2000/svg\" height=\"24px\"viewBox=\"0 0 24 24\"\n",
              "     width=\"24px\">\n",
              "    <g>\n",
              "        <path d=\"M19 3H5c-1.1 0-2 .9-2 2v14c0 1.1.9 2 2 2h14c1.1 0 2-.9 2-2V5c0-1.1-.9-2-2-2zM9 17H7v-7h2v7zm4 0h-2V7h2v10zm4 0h-2v-4h2v4z\"/>\n",
              "    </g>\n",
              "</svg>\n",
              "  </button>\n",
              "\n",
              "<style>\n",
              "  .colab-df-quickchart {\n",
              "      --bg-color: #E8F0FE;\n",
              "      --fill-color: #1967D2;\n",
              "      --hover-bg-color: #E2EBFA;\n",
              "      --hover-fill-color: #174EA6;\n",
              "      --disabled-fill-color: #AAA;\n",
              "      --disabled-bg-color: #DDD;\n",
              "  }\n",
              "\n",
              "  [theme=dark] .colab-df-quickchart {\n",
              "      --bg-color: #3B4455;\n",
              "      --fill-color: #D2E3FC;\n",
              "      --hover-bg-color: #434B5C;\n",
              "      --hover-fill-color: #FFFFFF;\n",
              "      --disabled-bg-color: #3B4455;\n",
              "      --disabled-fill-color: #666;\n",
              "  }\n",
              "\n",
              "  .colab-df-quickchart {\n",
              "    background-color: var(--bg-color);\n",
              "    border: none;\n",
              "    border-radius: 50%;\n",
              "    cursor: pointer;\n",
              "    display: none;\n",
              "    fill: var(--fill-color);\n",
              "    height: 32px;\n",
              "    padding: 0;\n",
              "    width: 32px;\n",
              "  }\n",
              "\n",
              "  .colab-df-quickchart:hover {\n",
              "    background-color: var(--hover-bg-color);\n",
              "    box-shadow: 0 1px 2px rgba(60, 64, 67, 0.3), 0 1px 3px 1px rgba(60, 64, 67, 0.15);\n",
              "    fill: var(--button-hover-fill-color);\n",
              "  }\n",
              "\n",
              "  .colab-df-quickchart-complete:disabled,\n",
              "  .colab-df-quickchart-complete:disabled:hover {\n",
              "    background-color: var(--disabled-bg-color);\n",
              "    fill: var(--disabled-fill-color);\n",
              "    box-shadow: none;\n",
              "  }\n",
              "\n",
              "  .colab-df-spinner {\n",
              "    border: 2px solid var(--fill-color);\n",
              "    border-color: transparent;\n",
              "    border-bottom-color: var(--fill-color);\n",
              "    animation:\n",
              "      spin 1s steps(1) infinite;\n",
              "  }\n",
              "\n",
              "  @keyframes spin {\n",
              "    0% {\n",
              "      border-color: transparent;\n",
              "      border-bottom-color: var(--fill-color);\n",
              "      border-left-color: var(--fill-color);\n",
              "    }\n",
              "    20% {\n",
              "      border-color: transparent;\n",
              "      border-left-color: var(--fill-color);\n",
              "      border-top-color: var(--fill-color);\n",
              "    }\n",
              "    30% {\n",
              "      border-color: transparent;\n",
              "      border-left-color: var(--fill-color);\n",
              "      border-top-color: var(--fill-color);\n",
              "      border-right-color: var(--fill-color);\n",
              "    }\n",
              "    40% {\n",
              "      border-color: transparent;\n",
              "      border-right-color: var(--fill-color);\n",
              "      border-top-color: var(--fill-color);\n",
              "    }\n",
              "    60% {\n",
              "      border-color: transparent;\n",
              "      border-right-color: var(--fill-color);\n",
              "    }\n",
              "    80% {\n",
              "      border-color: transparent;\n",
              "      border-right-color: var(--fill-color);\n",
              "      border-bottom-color: var(--fill-color);\n",
              "    }\n",
              "    90% {\n",
              "      border-color: transparent;\n",
              "      border-bottom-color: var(--fill-color);\n",
              "    }\n",
              "  }\n",
              "</style>\n",
              "\n",
              "  <script>\n",
              "    async function quickchart(key) {\n",
              "      const quickchartButtonEl =\n",
              "        document.querySelector('#' + key + ' button');\n",
              "      quickchartButtonEl.disabled = true;  // To prevent multiple clicks.\n",
              "      quickchartButtonEl.classList.add('colab-df-spinner');\n",
              "      try {\n",
              "        const charts = await google.colab.kernel.invokeFunction(\n",
              "            'suggestCharts', [key], {});\n",
              "      } catch (error) {\n",
              "        console.error('Error during call to suggestCharts:', error);\n",
              "      }\n",
              "      quickchartButtonEl.classList.remove('colab-df-spinner');\n",
              "      quickchartButtonEl.classList.add('colab-df-quickchart-complete');\n",
              "    }\n",
              "    (() => {\n",
              "      let quickchartButtonEl =\n",
              "        document.querySelector('#df-35a465e0-d6d3-4b49-af42-fe84732b5a90 button');\n",
              "      quickchartButtonEl.style.display =\n",
              "        google.colab.kernel.accessAllowed ? 'block' : 'none';\n",
              "    })();\n",
              "  </script>\n",
              "</div>\n",
              "    </div>\n",
              "  </div>\n"
            ]
          },
          "metadata": {},
          "execution_count": 7
        }
      ]
    },
    {
      "cell_type": "markdown",
      "source": [
        "### **Integrating TF-IDF and Linguistic Features**\n",
        "In this section, we merge textual and linguistic features to enhance our dataset's representation for machine learning models:\n",
        "\n",
        "\n",
        "1.   **TF-IDF Vectorization**: We convert the sentences from df['sentence'] into a\n",
        "TF-IDF matrix, considering unigrams, bigrams, and trigrams.\n",
        "\n",
        "2.   **Linguistic Features**: Extracted features such as 'sentence_length', 'avg_word_length', 'lexical_diversity', and 'syntactic_complexity' are prepared for integration.\n",
        "\n",
        "3. **Sparse Matrix Conversion**: These linguistic features are converted to a Compressed Sparse Row (CSR) format.\n",
        "\n",
        "4. **Feature Combination**: We horizontally stack the TF-IDF matrix with the CSR matrix of linguistic features, creating a unified feature set X_combined.\n",
        "\n",
        "This combined feature set, capturing both text content and linguistic characteristics, is designed to provide a richer input for our predictive models."
      ],
      "metadata": {
        "id": "_0eLKsQ9ny7S"
      }
    },
    {
      "cell_type": "code",
      "source": [
        "from scipy.sparse import hstack, csr_matrix\n",
        "\n",
        "# Initialize TfidfVectorizer\n",
        "vectorizer = TfidfVectorizer(ngram_range=(1, 3), min_df=3, max_df=0.8)\n",
        "\n",
        "# Transform the text data to TF-IDF features\n",
        "X_text = vectorizer.fit_transform(df['sentence'])\n",
        "\n",
        "# Extract additional features and convert to a CSR (Compressed Sparse Row) format\n",
        "additional_features = df[['sentence_length', 'avg_word_length', 'lexical_diversity', 'syntactic_complexity']] # Add any other features you created\n",
        "additional_features_csr = csr_matrix(additional_features)\n",
        "\n",
        "# Combine TF-IDF features with additional features\n",
        "X_combined = hstack([X_text, additional_features_csr])"
      ],
      "metadata": {
        "id": "Z3uqjw2PneBJ"
      },
      "execution_count": 8,
      "outputs": []
    },
    {
      "cell_type": "code",
      "source": [
        "print(X_combined)"
      ],
      "metadata": {
        "colab": {
          "base_uri": "https://localhost:8080/"
        },
        "id": "YXYRM5dWXZ12",
        "outputId": "4bcae042-f63e-4398-c9c6-dbeac808ee75"
      },
      "execution_count": null,
      "outputs": [
        {
          "output_type": "stream",
          "name": "stdout",
          "text": [
            "  (0, 2402)\t0.16654270563945978\n",
            "  (0, 5222)\t0.16654270563945978\n",
            "  (0, 2632)\t0.17126652182198582\n",
            "  (0, 2059)\t0.17126652182198582\n",
            "  (0, 1730)\t0.06991817079382164\n",
            "  (0, 7555)\t0.15409961175131104\n",
            "  (0, 5607)\t0.15659300852026906\n",
            "  (0, 2401)\t0.3253661335732969\n",
            "  (0, 1917)\t0.14800955348493164\n",
            "  (0, 5220)\t0.14800955348493164\n",
            "  (0, 3265)\t0.17126652182198582\n",
            "  (0, 2630)\t0.14631509699907497\n",
            "  (0, 2120)\t0.15941978863396705\n",
            "  (0, 4568)\t0.16654270563945978\n",
            "  (0, 3040)\t0.15409961175131104\n",
            "  (0, 7729)\t0.15941978863396705\n",
            "  (0, 3254)\t0.17126652182198582\n",
            "  (0, 4727)\t0.15659300852026906\n",
            "  (0, 3992)\t0.043448387748418194\n",
            "  (0, 8101)\t0.15941978863396705\n",
            "  (0, 3760)\t0.17126652182198582\n",
            "  (0, 5601)\t0.08217683808413835\n",
            "  (0, 5498)\t0.17126652182198582\n",
            "  (0, 7554)\t0.2960191069698633\n",
            "  (0, 8100)\t0.17126652182198582\n",
            "  :\t:\n",
            "  (4798, 8522)\t1.0\n",
            "  (4799, 8113)\t0.29154250736275933\n",
            "  (4799, 7465)\t0.2998118170805673\n",
            "  (4799, 4487)\t0.2998118170805673\n",
            "  (4799, 7024)\t0.27907343478738167\n",
            "  (4799, 6742)\t0.26232365665550017\n",
            "  (4799, 5957)\t0.24843817278461788\n",
            "  (4799, 1913)\t0.25909916721333376\n",
            "  (4799, 1884)\t0.21095001235955071\n",
            "  (4799, 6845)\t0.2847859893613085\n",
            "  (4799, 7715)\t0.23836078492014803\n",
            "  (4799, 7712)\t0.19427688006870197\n",
            "  (4799, 4114)\t0.24407333949407484\n",
            "  (4799, 5042)\t0.233412345065359\n",
            "  (4799, 7179)\t0.1533856358754258\n",
            "  (4799, 2922)\t0.08036847810918207\n",
            "  (4799, 7460)\t0.18165467400712157\n",
            "  (4799, 7445)\t0.1285093545644209\n",
            "  (4799, 4304)\t0.0814777874938664\n",
            "  (4799, 3992)\t0.1521177629053958\n",
            "  (4799, 1616)\t0.12722385320916643\n",
            "  (4799, 8519)\t19.0\n",
            "  (4799, 8520)\t4.157894736842105\n",
            "  (4799, 8521)\t0.8947368421052632\n",
            "  (4799, 8522)\t1.0\n"
          ]
        }
      ]
    },
    {
      "cell_type": "markdown",
      "source": [
        "### **Final Preprocessing Steps: Encoding Labels and Splitting Data**\n",
        "Before training our machine learning models, we perform two crucial preprocessing steps:\n",
        "\n",
        "## 1. **Label Encoding**:\n",
        "\n",
        "\n",
        "*   **Purpose**: Convert categorical labels (text-based) into numerical form. This is essential because most machine learning algorithms require numerical input.\n",
        "*   **Method**: We use LabelEncoder from scikit-learn, which assigns a unique integer to each category of the label.\n",
        "\n",
        "\n",
        "## 2. **Train-Test Split**:\n",
        "\n",
        "\n",
        "*   **Purpose**: To evaluate the model effectively, we need to test it on unseen data. This is why we split the dataset into training and testing sets.\n",
        "*   **Method**: We employ train_test_split from scikit-learn. Typically, the dataset is divided into around 70-80% training data and 20-30% testing data. This split allows the model to learn from a substantial portion of the data and be validated on a separate portion.\n",
        "* **Random State**: A fixed random_state is often used to ensure reproducibility of the split."
      ],
      "metadata": {
        "id": "P2GtAq7jpCzT"
      }
    },
    {
      "cell_type": "code",
      "source": [
        "\n",
        "\n",
        "# Initialize the label encoder\n",
        "encoder = LabelEncoder()\n",
        "\n",
        "# Fit and transform the difficulty levels\n",
        "y = encoder.fit_transform(df['difficulty'])"
      ],
      "metadata": {
        "id": "Eqbtt4VsoRPl"
      },
      "execution_count": 9,
      "outputs": []
    },
    {
      "cell_type": "code",
      "source": [
        "# Split the dataset into training and testing sets\n",
        "X_train, X_test, y_train, y_test = train_test_split(X_combined, y, test_size=0.2, random_state=42)"
      ],
      "metadata": {
        "id": "O00xqI0PVS-j"
      },
      "execution_count": 10,
      "outputs": []
    },
    {
      "cell_type": "markdown",
      "source": [
        "## Model Training and Hyperparameter Tuning\n",
        "\n",
        "In this section, we train various machine learning models, each with its unique strengths, and perform hyperparameter tuning to optimize their performance. Here's a brief overview:\n",
        "\n",
        "### 1. XGBoost:\n",
        "- **Strengths**: Highly efficient, flexible, and capable of handling sparse data.\n",
        "- **Key Hyperparameters**:\n",
        "  - `n_estimators`: Number of boosting rounds.\n",
        "  - `max_depth`: Maximum tree depth.\n",
        "  - `learning_rate`: Step size shrinkage.\n",
        "  - `gamma`: Minimum loss reduction to make a further partition.\n",
        "  - `subsample`: Subsample ratio of the training instances.\n",
        "\n",
        "### 2. Logistic Regression:\n",
        "- **Strengths**: Simple, efficient, and interpretable.\n",
        "- **Key Hyperparameters**: Regularization strength (`C`) and the type of solver.\n",
        "\n",
        "### 3. K-Nearest Neighbors (KNN):\n",
        "- **Strengths**: Simple and effective, especially for small datasets.\n",
        "- **Key Hyperparameters**: Number of neighbors (`n_neighbors`) and distance metric.\n",
        "\n",
        "### 4. Decision Tree:\n",
        "- **Strengths**: Easy to interpret, non-parametric.\n",
        "- **Key Hyperparameters**: Maximum depth of the tree (`max_depth`), and minimum samples required to split an internal node (`min_samples_split`).\n",
        "\n",
        "### 5. Random Forest:\n",
        "- **Strengths**: Robust, handles overfitting well.\n",
        "- **Key Hyperparameters**: Number of trees (`n_estimators`), maximum depth of trees (`max_depth`).\n",
        "\n",
        "### 6. SVM (Support Vector Machine):\n",
        "- **Strengths**: Effective in high dimensional spaces.\n",
        "- **Key Hyperparameters**: Regularization (`C`), kernel type (`kernel`), and kernel coefficient (`gamma`).\n",
        "\n",
        "### Training and Evaluation:\n",
        "For each model, we perform the following steps:\n",
        "1. **Hyperparameter Tuning**: Using `GridSearchCV` to find the optimal settings.\n",
        "2. **Model Training**: Training the model with the best-found parameters on the training set.\n",
        "3. **Prediction and Metrics Calculation**: Making predictions on the test set and calculating performance metrics such as precision, recall, F1 score, and accuracy.\n",
        "\n",
        "These steps ensure that each model is finely tuned and evaluated, providing a comprehensive understanding of their performance on our dataset.\n"
      ],
      "metadata": {
        "id": "nMn7kzPiqeVD"
      }
    },
    {
      "cell_type": "markdown",
      "source": [
        "### **XGBoost model**"
      ],
      "metadata": {
        "id": "ps0SfV4ttBzu"
      }
    },
    {
      "cell_type": "code",
      "source": [
        "from xgboost import XGBClassifier\n",
        "\n",
        "# Define the parameter grid for XGBoost\n",
        "param_grid_xgb = {\n",
        "    'n_estimators': [50, 500],\n",
        "    'max_depth': [1,10],\n",
        "    'learning_rate': [0.01, 0.1],\n",
        "    'gamma': [1, 5],\n",
        "    'subsample': [0.8, 1.0],\n",
        "\n",
        "}\n",
        "\n",
        "# Initialize the XGBoost model\n",
        "xgb_model = XGBClassifier(use_label_encoder=False, eval_metric='mlogloss')\n",
        "\n",
        "# Initialize GridSearchCV\n",
        "grid_search_xgb = GridSearchCV(xgb_model, param_grid_xgb, cv=5, scoring='accuracy')\n",
        "\n",
        "# Fit the model\n",
        "# Assuming X_train and y_train are already defined\n",
        "grid_search_xgb.fit(X_train, y_train)\n",
        "\n",
        "# Best parameters and best score\n",
        "print(\"Best Parameters for XGBoost: \", grid_search_xgb.best_params_)\n",
        "print(\"Best Score for XGBoost: \", grid_search_xgb.best_score_)"
      ],
      "metadata": {
        "id": "AEupvsRNiREU",
        "colab": {
          "base_uri": "https://localhost:8080/"
        },
        "outputId": "24bac73e-6094-437b-ce0a-7f520d66b919"
      },
      "execution_count": null,
      "outputs": [
        {
          "output_type": "stream",
          "name": "stdout",
          "text": [
            "Best Parameters for XGBoost:  {'gamma': 1, 'learning_rate': 0.1, 'max_depth': 1, 'n_estimators': 500, 'subsample': 0.8}\n",
            "Best Score for XGBoost:  0.4393229166666667\n"
          ]
        }
      ]
    },
    {
      "cell_type": "code",
      "source": [
        "# Initialize and train the XGBoost model with the best parameters\n",
        "best_params = grid_search_xgb.best_params_\n",
        "model_xgb = XGBClassifier(**best_params, use_label_encoder=False, eval_metric='mlogloss')\n",
        "model_xgb.fit(X_train, y_train)\n",
        "\n",
        "# Make predictions\n",
        "y_pred_xgb = model_xgb.predict(X_test)\n",
        "\n",
        "# Calculate metrics\n",
        "precision_xgb = precision_score(y_test, y_pred_xgb, average='weighted')\n",
        "recall_xgb = recall_score(y_test, y_pred_xgb, average='weighted')\n",
        "f1_score_xgb = f1_score(y_test, y_pred_xgb, average='weighted')\n",
        "accuracy_xgb = accuracy_score(y_test, y_pred_xgb)"
      ],
      "metadata": {
        "id": "KCad3oz8lK0A"
      },
      "execution_count": null,
      "outputs": []
    },
    {
      "cell_type": "markdown",
      "source": [
        "### **Logistic Regression model**"
      ],
      "metadata": {
        "id": "Y1Cjt1latGCd"
      }
    },
    {
      "cell_type": "code",
      "source": [
        "# Define the parameter grid for Logistic Regression\n",
        "param_grid_lr = {\n",
        "    'C': [0.001, 0.01, 0.1, 1, 10, 100],  # Regularization strength\n",
        "    'penalty': ['l1', 'l2'],  # Type of regularization\n",
        "    'solver': ['liblinear', 'saga']  # Algorithm to use in the optimization problem\n",
        "}\n",
        "\n",
        "# Initialize the Logistic Regression model\n",
        "logistic_regression = LogisticRegression()\n",
        "\n",
        "# Initialize GridSearchCV\n",
        "grid_search_lr = GridSearchCV(logistic_regression, param_grid_lr, cv=5, scoring='accuracy')\n",
        "\n",
        "# Fit the model\n",
        "# Assuming X_train and y_train are already defined\n",
        "grid_search_lr.fit(X_train, y_train)\n",
        "\n",
        "# Best parameters and best score\n",
        "print(\"Best Parameters for Logistic Regression: \", grid_search_lr.best_params_)\n",
        "print(\"Best Score for Logistic Regression: \", grid_search_lr.best_score_)"
      ],
      "metadata": {
        "id": "Ql_5GVmeYPKl"
      },
      "execution_count": null,
      "outputs": []
    },
    {
      "cell_type": "code",
      "source": [
        "best_params = grid_search_lr.best_params_\n",
        "\n",
        "\n",
        "# Initialize and train the Logistic Regression model\n",
        "model_lr = LogisticRegression(**best_params)\n",
        "model_lr.fit(X_train, y_train)\n",
        "\n",
        "# Make predictions\n",
        "y_pred_lr = model_lr.predict(X_test)\n",
        "\n",
        "# Calculate metrics\n",
        "precision_lr = precision_score(y_test, y_pred_lr, average='weighted')\n",
        "recall_lr = recall_score(y_test, y_pred_lr, average='weighted')\n",
        "f1_score_lr = f1_score(y_test, y_pred_lr, average='weighted')\n",
        "accuracy_lr = accuracy_score(y_test, y_pred_lr)"
      ],
      "metadata": {
        "id": "TYyxflouoVx4"
      },
      "execution_count": 12,
      "outputs": []
    },
    {
      "cell_type": "markdown",
      "source": [
        "### **KNN model**"
      ],
      "metadata": {
        "id": "vDsb7Dw0czPR"
      }
    },
    {
      "cell_type": "code",
      "source": [
        "# Define the parameter grid\n",
        "param_grid_knn = {\n",
        "    'n_neighbors': [3, 5, 7, 10, 15]\n",
        "}\n",
        "\n",
        "# Initialize the kNN model\n",
        "knn = KNeighborsClassifier()\n",
        "\n",
        "# Initialize GridSearchCV\n",
        "grid_search_knn = GridSearchCV(knn, param_grid_knn, cv=5, scoring='accuracy')\n",
        "\n",
        "# Fit the model\n",
        "grid_search_knn.fit(X_train, y_train)\n",
        "\n",
        "# Best parameters and best score\n",
        "print(\"Best Parameters for kNN: \", grid_search_knn.best_params_)\n",
        "print(\"Best Score for kNN: \", grid_search_knn.best_score_)"
      ],
      "metadata": {
        "colab": {
          "base_uri": "https://localhost:8080/"
        },
        "id": "mhCGWb9ZctUI",
        "outputId": "5844d469-087b-4729-d08e-55e673a56e62"
      },
      "execution_count": 13,
      "outputs": [
        {
          "output_type": "stream",
          "name": "stdout",
          "text": [
            "Best Parameters for kNN:  {'n_neighbors': 7}\n",
            "Best Score for kNN:  0.3690104166666667\n"
          ]
        }
      ]
    },
    {
      "cell_type": "code",
      "source": [
        "# Initialize and train the kNN model\n",
        "best_params = grid_search_knn.best_params_\n",
        "model_knn = KNeighborsClassifier(**best_params)\n",
        "model_knn.fit(X_train, y_train)\n",
        "\n",
        "# Make predictions\n",
        "y_pred_knn = model_knn.predict(X_test)\n",
        "\n",
        "# Calculate metrics\n",
        "precision_knn = precision_score(y_test, y_pred_knn, average='weighted')\n",
        "recall_knn = recall_score(y_test, y_pred_knn, average='weighted')\n",
        "f1_score_knn = f1_score(y_test, y_pred_knn, average='weighted')\n",
        "accuracy_knn = accuracy_score(y_test, y_pred_knn)"
      ],
      "metadata": {
        "id": "DbMSKF5KVsEQ"
      },
      "execution_count": 14,
      "outputs": []
    },
    {
      "cell_type": "markdown",
      "source": [
        "### **Decision Tree model**"
      ],
      "metadata": {
        "id": "q-boWreydw5r"
      }
    },
    {
      "cell_type": "code",
      "source": [
        "# Define the parameter grid\n",
        "param_grid_dt = {\n",
        "    'max_depth': [10, 20, 30, None],\n",
        "    'min_samples_split': [2, 5, 10]\n",
        "}\n",
        "\n",
        "# Initialize the Decision Tree model\n",
        "decision_tree = DecisionTreeClassifier()\n",
        "\n",
        "# Initialize GridSearchCV\n",
        "grid_search_dt = GridSearchCV(decision_tree, param_grid_dt, cv=5, scoring='accuracy')\n",
        "\n",
        "# Fit the model\n",
        "grid_search_dt.fit(X_train, y_train)\n",
        "\n",
        "# Best parameters and best score\n",
        "print(\"Best Parameters for Decision Tree: \", grid_search_dt.best_params_)\n",
        "print(\"Best Score for Decision Tree: \", grid_search_dt.best_score_)"
      ],
      "metadata": {
        "colab": {
          "base_uri": "https://localhost:8080/"
        },
        "id": "iOL4BEG_d0KN",
        "outputId": "1249ebe5-a44b-4658-e48e-14753d2484fb"
      },
      "execution_count": null,
      "outputs": [
        {
          "output_type": "stream",
          "name": "stdout",
          "text": [
            "Best Parameters for Decision Tree:  {'max_depth': 10, 'min_samples_split': 5}\n",
            "Best Score for Decision Tree:  0.37994791666666666\n"
          ]
        }
      ]
    },
    {
      "cell_type": "code",
      "source": [
        "best_params = grid_search_dt.best_params_\n",
        "\n",
        "# Initialize and train the Decision Tree model\n",
        "model_dt = DecisionTreeClassifier(**best_params)\n",
        "model_dt.fit(X_train, y_train)\n",
        "\n",
        "# Make predictions\n",
        "y_pred_dt = model_dt.predict(X_test)\n",
        "\n",
        "# Calculate metrics\n",
        "precision_dt = precision_score(y_test, y_pred_dt, average='weighted')\n",
        "recall_dt = recall_score(y_test, y_pred_dt, average='weighted')\n",
        "f1_score_dt = f1_score(y_test, y_pred_dt, average='weighted')\n",
        "accuracy_dt = accuracy_score(y_test, y_pred_dt)"
      ],
      "metadata": {
        "id": "DHuxqMuSV0Iv"
      },
      "execution_count": null,
      "outputs": []
    },
    {
      "cell_type": "markdown",
      "source": [
        "### **Random Forest model**"
      ],
      "metadata": {
        "id": "a0sd5BaHeQW3"
      }
    },
    {
      "cell_type": "code",
      "source": [
        "# Define the parameter grid\n",
        "param_grid_rf = {\n",
        "    'n_estimators': [100, 200, 300],\n",
        "    'max_depth': [10, 20, 30, None],\n",
        "    'min_samples_split': [2, 5, 10]\n",
        "}\n",
        "\n",
        "# Initialize the Random Forest model\n",
        "random_forest = RandomForestClassifier()\n",
        "\n",
        "# Initialize GridSearchCV\n",
        "grid_search_rf = GridSearchCV(random_forest, param_grid_rf, cv=5, scoring='accuracy')\n",
        "\n",
        "# Fit the model\n",
        "grid_search_rf.fit(X_train, y_train)\n",
        "\n",
        "# Best parameters and best score\n",
        "print(\"Best Parameters for Random Forest: \", grid_search_rf.best_params_)\n",
        "print(\"Best Score for Random Forest: \", grid_search_rf.best_score_)"
      ],
      "metadata": {
        "colab": {
          "base_uri": "https://localhost:8080/"
        },
        "id": "sHCxv_EieTXY",
        "outputId": "0b4cf508-7a2e-477b-a5d9-e947a1e8c176"
      },
      "execution_count": null,
      "outputs": [
        {
          "output_type": "stream",
          "name": "stdout",
          "text": [
            "Best Parameters for Random Forest:  {'max_depth': None, 'min_samples_split': 10, 'n_estimators': 100}\n",
            "Best Score for Random Forest:  0.44609375\n"
          ]
        }
      ]
    },
    {
      "cell_type": "code",
      "source": [
        "best_params = grid_search_rf.best_params_\n",
        "# Initialize and train the Random Forest model\n",
        "\n",
        "model_rf = RandomForestClassifier(**best_params)\n",
        "model_rf.fit(X_train, y_train)\n",
        "\n",
        "# Make predictions\n",
        "y_pred_rf = model_rf.predict(X_test)\n",
        "\n",
        "# Calculate metrics\n",
        "precision_rf = precision_score(y_test, y_pred_rf, average='weighted')\n",
        "recall_rf = recall_score(y_test, y_pred_rf, average='weighted')\n",
        "f1_score_rf = f1_score(y_test, y_pred_rf, average='weighted')\n",
        "accuracy_rf = accuracy_score(y_test, y_pred_rf)"
      ],
      "metadata": {
        "id": "VqL5NQ_iV_t8"
      },
      "execution_count": null,
      "outputs": []
    },
    {
      "cell_type": "markdown",
      "source": [
        "### **SVM (Support Vector Machine) model**"
      ],
      "metadata": {
        "id": "PBOoX7KytcZy"
      }
    },
    {
      "cell_type": "code",
      "source": [
        "from sklearn.svm import SVC\n",
        "# Define the parameter grid for SVM\n",
        "param_grid_svm = {\n",
        "    'C': [0.1, 1, 10, 100],  # Regularization parameter\n",
        "    'kernel': ['rbf', 'poly', 'sigmoid', 'linear'],  # Type of kernel\n",
        "    'gamma': ['scale', 'auto']  # Kernel coefficient\n",
        "}\n",
        "\n",
        "# Initialize the SVM model\n",
        "svm_model = SVC()\n",
        "\n",
        "# Initialize GridSearchCV\n",
        "grid_search_svm = GridSearchCV(svm_model, param_grid_svm, cv=5, scoring='accuracy')\n",
        "\n",
        "# Fit the model\n",
        "# Assuming X_train and y_train are already defined\n",
        "grid_search_svm.fit(X_train, y_train)\n",
        "\n",
        "# Best parameters and best score\n",
        "print(\"Best Parameters for SVM: \", grid_search_svm.best_params_)\n",
        "print(\"Best Score for SVM: \", grid_search_svm.best_score_)\n"
      ],
      "metadata": {
        "colab": {
          "base_uri": "https://localhost:8080/"
        },
        "id": "STTIOgnnepPO",
        "outputId": "8cb26fb3-d5ac-4bc6-a03b-adfbcd34cad8"
      },
      "execution_count": null,
      "outputs": [
        {
          "output_type": "stream",
          "name": "stdout",
          "text": [
            "Best Parameters for SVM:  {'C': 1, 'gamma': 'scale', 'kernel': 'linear'}\n",
            "Best Score for SVM:  0.4768229166666667\n"
          ]
        }
      ]
    },
    {
      "cell_type": "code",
      "source": [
        "# Initialize and train the SVM model with the best parameters\n",
        "best_params = grid_search_svm.best_params_\n",
        "model_svm = SVC(C=best_params['C'], kernel=best_params['kernel'], gamma=best_params['gamma'])\n",
        "model_svm.fit(X_train, y_train)\n",
        "\n",
        "# Make predictions\n",
        "y_pred_svm = model_svm.predict(X_test)\n",
        "\n",
        "# Calculate metrics\n",
        "precision_svm = precision_score(y_test, y_pred_svm, average='weighted')\n",
        "recall_svm = recall_score(y_test, y_pred_svm, average='weighted')\n",
        "f1_score_svm = f1_score(y_test, y_pred_svm, average='weighted')\n",
        "accuracy_svm = accuracy_score(y_test, y_pred_svm)"
      ],
      "metadata": {
        "id": "DBS2jlkJfM0T"
      },
      "execution_count": null,
      "outputs": []
    },
    {
      "cell_type": "markdown",
      "source": [
        "## Model Performance Comparison\n",
        "\n",
        "After training and evaluating all models, we aggregate their performance metrics into a single DataFrame for easy comparison:\n",
        "\n",
        "- The DataFrame `metrics_df` includes:\n",
        "  - `Model`: Names of the models (Logistic Regression, kNN, Decision Tree, Random Forests, SVM, XGBoost).\n",
        "  - `Precision`: The precision score for each model.\n",
        "  - `Recall`: The recall score for each model.\n",
        "  - `F1-Score`: The F1 score for each model, balancing precision and recall.\n",
        "  - `Accuracy`: The accuracy score for each model.\n",
        "\n",
        "### Highlighting the Best Performances\n",
        "\n",
        "To easily identify the best-performing model in each metric, we apply a highlighting function:\n",
        "- The function `highlight_max` is used to highlight the maximum value in each metric column.\n",
        "- This makes it immediately apparent which model excels in which particular metric.\n",
        "\n",
        "### Visualization\n",
        "We then apply this highlighting function to our DataFrame and display the styled DataFrame. This provides a clear and visually appealing comparison of the model performances.\n"
      ],
      "metadata": {
        "id": "TPahhXWZsqaO"
      }
    },
    {
      "cell_type": "code",
      "source": [
        "metrics_df = pd.DataFrame({\n",
        "    'Model': ['Logistic Regression', 'kNN', 'Decision Tree', 'Random Forests', 'SVM', 'XGBoost'],\n",
        "    'Precision': [precision_lr, precision_knn, precision_dt, precision_rf, precision_svm, precision_xgb],\n",
        "    'Recall': [recall_lr, recall_knn, recall_dt, recall_rf, recall_svm, recall_xgb],\n",
        "    'F1-Score': [f1_score_lr, f1_score_knn, f1_score_dt, f1_score_rf, f1_score_svm, f1_score_xgb],\n",
        "    'Accuracy': [accuracy_lr, accuracy_knn, accuracy_dt, accuracy_rf, accuracy_svm, accuracy_xgb]\n",
        "})\n",
        "def highlight_max(s):\n",
        "    '''\n",
        "    Highlight the maximum value in a Series yellow.\n",
        "    '''\n",
        "    is_max = s == s.max()\n",
        "    return ['background-color: yellow' if v else '' for v in is_max]\n",
        "\n",
        "# Applying the highlight function to our DataFrame\n",
        "styled_df = metrics_df.style.apply(highlight_max, subset=['Precision', 'Recall', 'F1-Score', 'Accuracy'])\n",
        "\n",
        "# Display the styled DataFrame\n",
        "styled_df"
      ],
      "metadata": {
        "id": "xopbr5V3XzSE",
        "colab": {
          "base_uri": "https://localhost:8080/",
          "height": 238
        },
        "outputId": "cc784aa6-7d48-4c99-a0fe-40e7c7ce7591"
      },
      "execution_count": null,
      "outputs": [
        {
          "output_type": "execute_result",
          "data": {
            "text/plain": [
              "<pandas.io.formats.style.Styler at 0x7956e7131ed0>"
            ],
            "text/html": [
              "<style type=\"text/css\">\n",
              "#T_5709b_row4_col1, #T_5709b_row4_col2, #T_5709b_row4_col3, #T_5709b_row4_col4 {\n",
              "  background-color: yellow;\n",
              "}\n",
              "</style>\n",
              "<table id=\"T_5709b\" class=\"dataframe\">\n",
              "  <thead>\n",
              "    <tr>\n",
              "      <th class=\"blank level0\" >&nbsp;</th>\n",
              "      <th id=\"T_5709b_level0_col0\" class=\"col_heading level0 col0\" >Model</th>\n",
              "      <th id=\"T_5709b_level0_col1\" class=\"col_heading level0 col1\" >Precision</th>\n",
              "      <th id=\"T_5709b_level0_col2\" class=\"col_heading level0 col2\" >Recall</th>\n",
              "      <th id=\"T_5709b_level0_col3\" class=\"col_heading level0 col3\" >F1-Score</th>\n",
              "      <th id=\"T_5709b_level0_col4\" class=\"col_heading level0 col4\" >Accuracy</th>\n",
              "    </tr>\n",
              "  </thead>\n",
              "  <tbody>\n",
              "    <tr>\n",
              "      <th id=\"T_5709b_level0_row0\" class=\"row_heading level0 row0\" >0</th>\n",
              "      <td id=\"T_5709b_row0_col0\" class=\"data row0 col0\" >Logistic Regression</td>\n",
              "      <td id=\"T_5709b_row0_col1\" class=\"data row0 col1\" >0.458717</td>\n",
              "      <td id=\"T_5709b_row0_col2\" class=\"data row0 col2\" >0.467708</td>\n",
              "      <td id=\"T_5709b_row0_col3\" class=\"data row0 col3\" >0.457882</td>\n",
              "      <td id=\"T_5709b_row0_col4\" class=\"data row0 col4\" >0.467708</td>\n",
              "    </tr>\n",
              "    <tr>\n",
              "      <th id=\"T_5709b_level0_row1\" class=\"row_heading level0 row1\" >1</th>\n",
              "      <td id=\"T_5709b_row1_col0\" class=\"data row1 col0\" >kNN</td>\n",
              "      <td id=\"T_5709b_row1_col1\" class=\"data row1 col1\" >0.340016</td>\n",
              "      <td id=\"T_5709b_row1_col2\" class=\"data row1 col2\" >0.346875</td>\n",
              "      <td id=\"T_5709b_row1_col3\" class=\"data row1 col3\" >0.335963</td>\n",
              "      <td id=\"T_5709b_row1_col4\" class=\"data row1 col4\" >0.346875</td>\n",
              "    </tr>\n",
              "    <tr>\n",
              "      <th id=\"T_5709b_level0_row2\" class=\"row_heading level0 row2\" >2</th>\n",
              "      <td id=\"T_5709b_row2_col0\" class=\"data row2 col0\" >Decision Tree</td>\n",
              "      <td id=\"T_5709b_row2_col1\" class=\"data row2 col1\" >0.406695</td>\n",
              "      <td id=\"T_5709b_row2_col2\" class=\"data row2 col2\" >0.408333</td>\n",
              "      <td id=\"T_5709b_row2_col3\" class=\"data row2 col3\" >0.400994</td>\n",
              "      <td id=\"T_5709b_row2_col4\" class=\"data row2 col4\" >0.408333</td>\n",
              "    </tr>\n",
              "    <tr>\n",
              "      <th id=\"T_5709b_level0_row3\" class=\"row_heading level0 row3\" >3</th>\n",
              "      <td id=\"T_5709b_row3_col0\" class=\"data row3 col0\" >Random Forests</td>\n",
              "      <td id=\"T_5709b_row3_col1\" class=\"data row3 col1\" >0.426190</td>\n",
              "      <td id=\"T_5709b_row3_col2\" class=\"data row3 col2\" >0.435417</td>\n",
              "      <td id=\"T_5709b_row3_col3\" class=\"data row3 col3\" >0.423571</td>\n",
              "      <td id=\"T_5709b_row3_col4\" class=\"data row3 col4\" >0.435417</td>\n",
              "    </tr>\n",
              "    <tr>\n",
              "      <th id=\"T_5709b_level0_row4\" class=\"row_heading level0 row4\" >4</th>\n",
              "      <td id=\"T_5709b_row4_col0\" class=\"data row4 col0\" >SVM</td>\n",
              "      <td id=\"T_5709b_row4_col1\" class=\"data row4 col1\" >0.475693</td>\n",
              "      <td id=\"T_5709b_row4_col2\" class=\"data row4 col2\" >0.482292</td>\n",
              "      <td id=\"T_5709b_row4_col3\" class=\"data row4 col3\" >0.476856</td>\n",
              "      <td id=\"T_5709b_row4_col4\" class=\"data row4 col4\" >0.482292</td>\n",
              "    </tr>\n",
              "    <tr>\n",
              "      <th id=\"T_5709b_level0_row5\" class=\"row_heading level0 row5\" >5</th>\n",
              "      <td id=\"T_5709b_row5_col0\" class=\"data row5 col0\" >XGBoost</td>\n",
              "      <td id=\"T_5709b_row5_col1\" class=\"data row5 col1\" >0.446759</td>\n",
              "      <td id=\"T_5709b_row5_col2\" class=\"data row5 col2\" >0.451042</td>\n",
              "      <td id=\"T_5709b_row5_col3\" class=\"data row5 col3\" >0.447470</td>\n",
              "      <td id=\"T_5709b_row5_col4\" class=\"data row5 col4\" >0.451042</td>\n",
              "    </tr>\n",
              "  </tbody>\n",
              "</table>\n"
            ]
          },
          "metadata": {},
          "execution_count": 42
        }
      ]
    },
    {
      "cell_type": "markdown",
      "source": [
        "## Confusion Matrix Visualization for Each Model\n",
        "\n",
        "To gain a deeper understanding of each model's performance, we visualize the confusion matrices. A confusion matrix is a table that is often used to describe the performance of a classification model on a set of test data for which the true values are known.\n",
        "\n",
        "### Process Overview:\n",
        "\n",
        "1. **Models List**: We have a list of models along with their respective prediction outcomes. This includes Logistic Regression, K-Nearest Neighbors (kNN), Decision Tree, Random Forest, Support Vector Machine (SVM), and XGBoost.\n",
        "\n",
        "2. **Iteration and Visualization**:\n",
        "   - For each model, we iterate through its predictions.\n",
        "   - We compute the confusion matrix using the `confusion_matrix` function from scikit-learn, comparing the predicted labels (`model_predictions`) against the true labels (`y_test`).\n",
        "\n",
        "3. **Plotting**:\n",
        "   - Each confusion matrix is visualized using a heatmap from the seaborn library.\n",
        "   - The heatmap provides an intuitive color-coded representation of the confusion matrix, where the color intensity corresponds to the number of instances in each cell of the matrix.\n",
        "\n",
        "### Code for Plotting:"
      ],
      "metadata": {
        "id": "ET6ztgwBuX40"
      }
    },
    {
      "cell_type": "code",
      "source": [
        "import matplotlib.pyplot as plt\n",
        "import seaborn as sns\n",
        "from sklearn.metrics import confusion_matrix\n",
        "\n",
        "# Define a list of models and their corresponding prediction labels\n",
        "models = [\n",
        "    (\"Logistic Regression\", y_pred_lr),\n",
        "    (\"K-Nearest Neighbors\", y_pred_knn),\n",
        "    (\"Decision Tree\", y_pred_dt),\n",
        "    (\"Random Forest\", y_pred_rf),\n",
        "    (\"Support Vector Machine\", y_pred_svm),\n",
        "    (\"XGBoost\", y_pred_xgb)\n",
        "]\n",
        "\n",
        "# Iterate over the models and plot confusion matrix for each\n",
        "for model_name, model_predictions in models:\n",
        "    # Compute confusion matrix for each model\n",
        "    conf_matrix = confusion_matrix(y_test, model_predictions)\n",
        "\n",
        "    # Plotting the confusion matrix\n",
        "    plt.figure(figsize=(10, 7))\n",
        "    sns.heatmap(conf_matrix, annot=True, fmt='g', cmap='Blues')\n",
        "    plt.xlabel('Predicted Labels')\n",
        "    plt.ylabel('True Labels')\n",
        "    plt.title(f'Confusion Matrix for {model_name}')\n",
        "    plt.show()\n"
      ],
      "metadata": {
        "colab": {
          "base_uri": "https://localhost:8080/",
          "height": 1000
        },
        "id": "l7XNP3bHlMGl",
        "outputId": "019a4dce-7192-4ed9-db8e-001aa9fbfc14"
      },
      "execution_count": null,
      "outputs": [
        {
          "output_type": "display_data",
          "data": {
            "text/plain": [
              "<Figure size 1000x700 with 2 Axes>"
            ],
            "image/png": "[encoded data removed]"
          },
          "metadata": {}
        },
        {
          "output_type": "display_data",
          "data": {
            "text/plain": [
              "<Figure size 1000x700 with 2 Axes>"
            ],
            "image/png": "[encoded data removed]"
          },
          "metadata": {}
        },
        {
          "output_type": "display_data",
          "data": {
            "text/plain": [
              "<Figure size 1000x700 with 2 Axes>"
            ],
            "image/png": "[encoded data removed]"
          },
          "metadata": {}
        },
        {
          "output_type": "display_data",
          "data": {
            "text/plain": [
              "<Figure size 1000x700 with 2 Axes>"
            ],
            "image/png": "[encoded data removed]"
          },
          "metadata": {}
        },
        {
          "output_type": "display_data",
          "data": {
            "text/plain": [
              "<Figure size 1000x700 with 2 Axes>"
            ],
            "image/png": "[encoded data removed]"
          },
          "metadata": {}
        },
        {
          "output_type": "display_data",
          "data": {
            "text/plain": [
              "<Figure size 1000x700 with 2 Axes>"
            ],
            "image/png": "[encoded data removed]"
          },
          "metadata": {}
        }
      ]
    },
    {
      "cell_type": "markdown",
      "source": [
        "## Saving and Downloading Trained Models\n",
        "\n",
        "To preserve the trained state of our machine learning models for future use, we are saving them to disk. This process is crucial for deploying models in production or for further analysis without the need to retrain.\n",
        "\n",
        "### Process Overview:\n",
        "\n",
        "1. **Defining File Paths**:\n",
        "   - We specify the paths where each model will be saved. The file format used is `.joblib`, which is efficient for storing large arrays such as those in machine learning models.\n",
        "\n",
        "2. **Saving Models**:\n",
        "   - We utilize `joblib.dump` to serialize and save each trained model to the defined paths.\n",
        "   - This includes Logistic Regression, K-Nearest Neighbors, Decision Tree, Random Forest, Support Vector Machine, and XGBoost models.\n",
        "\n",
        "3. **Potential Issue with Large Models**:\n",
        "   - Saving large models like Random Forest might encounter issues due to their size, especially in cloud-based environments where there could be limitations on file sizes or available disk space.\n",
        "   - If you encounter difficulties in downloading a large model, consider checking the available disk space or compressing the model file.\n",
        "\n",
        "4. **Manual Download**:\n",
        "   - In cloud-based environments like Google Colab, if automatic download fails, particularly for large files, you may need to use environment-specific functions to manually trigger the download.\n",
        "\n",
        "### Code for Saving Models:"
      ],
      "metadata": {
        "id": "tsNHbXCzumXd"
      }
    },
    {
      "cell_type": "code",
      "source": [
        "import joblib\n",
        "\n",
        "# Define the paths for saving each model\n",
        "paths = {\n",
        "    \"model_lr\": \"model_lr.joblib\",\n",
        "    \"model_knn\": \"model_knn.joblib\",\n",
        "    \"model_dt\": \"model_dt.joblib\",\n",
        "    \"model_rf\": \"model_rf.joblib\",\n",
        "    \"model_svm\": \"model_svm.joblib\",\n",
        "    \"model_xgb\": \"model_xgb.joblib\",\n",
        "}\n",
        "#I can't download the rf one I don't know why\n",
        "# Save each model\n",
        "for model_name, model in [(\"model_lr\", model_lr), (\"model_knn\", model_knn), (\"model_dt\", model_dt), (\"model_rf\", model_rf), (\"model_svm\", model_svm), (\"model_xgb\", model_xgb)]:\n",
        "    joblib.dump(model, paths[model_name])\n",
        "    print(f\"Saved {model_name} at {paths[model_name]}\")\n"
      ],
      "metadata": {
        "id": "21U07hABpTva",
        "colab": {
          "base_uri": "https://localhost:8080/"
        },
        "outputId": "3f2ded1e-5b74-4c4c-9c21-b6994a8c3015"
      },
      "execution_count": null,
      "outputs": [
        {
          "output_type": "stream",
          "name": "stdout",
          "text": [
            "Saved model_lr at model_lr.joblib\n",
            "Saved model_knn at model_knn.joblib\n",
            "Saved model_dt at model_dt.joblib\n",
            "Saved model_rf at /content/model_rf.joblib\n",
            "Saved model_svm at model_svm.joblib\n",
            "Saved model_xgb at model_xgb.joblib\n"
          ]
        }
      ]
    },
    {
      "cell_type": "markdown",
      "source": [
        "## Retraining the Selected Model on Full Data\n",
        "\n",
        "After evaluating multiple models and selecting the best performer, we proceed to retrain this model on the entire dataset. This step is crucial for leveraging the maximum amount of data available, potentially improving the model's performance and generalizability.\n",
        "\n",
        "### Process Overview:\n",
        "\n",
        "1. **Model Selection**:\n",
        "   - Based on the performance metrics (such as precision, recall, F1-score, and accuracy) evaluated earlier, we choose the model that showed the best results or fits our requirements the most.\n",
        "\n",
        "2. **Full Dataset Utilization**:\n",
        "   - Unlike the initial training phase where we split the data into training and testing sets, here we use the entire dataset for training. This maximizes the learning potential of the model.\n",
        "\n",
        "3. **Retraining**:\n",
        "   - The selected model is retrained from scratch on the full dataset. This ensures that it learns from all available data, potentially capturing more patterns and insights.\n",
        "\n",
        "4. **Deployment Readiness**:\n",
        "   - The retrained model is now ready for deployment in a production environment or for further application, as it is trained on the complete dataset.\n",
        "\n",
        "### Example Code for Retraining:"
      ],
      "metadata": {
        "id": "GvdzOVhNjPsl"
      }
    },
    {
      "cell_type": "code",
      "source": [
        "model_lr.fit(X_combined, y)"
      ],
      "metadata": {
        "id": "LjhgtTFfjW4l"
      },
      "execution_count": null,
      "outputs": []
    },
    {
      "cell_type": "markdown",
      "source": [
        "## Predicting Unlabeled Data\n",
        "\n",
        "Having trained our model on the full dataset, we now apply it to make predictions on new, unlabeled data. This step is crucial for practical applications, as it demonstrates the model's ability to generalize and provide insights on data it has not seen before.\n",
        "\n",
        "### Process Overview:\n",
        "\n",
        "1. **Data Preparation**:\n",
        "   - We ensure that the unlabeled data is processed and formatted in the same way as our training data, maintaining consistency in feature representation.\n",
        "\n",
        "2. **Model Application**:\n",
        "   - The trained model is used to predict the labels of the unlabeled dataset. This is the step where the model applies its learned patterns to new data.\n",
        "\n",
        "3. **Result Utilization**:\n",
        "   - The predictions can be used for various purposes, depending on the project's goal. It could be for making informed decisions, further analysis, or as input to another stage in a larger pipeline.\n",
        "\n",
        "### Example Code for Prediction:"
      ],
      "metadata": {
        "id": "6hWIMoYvWanK"
      }
    },
    {
      "cell_type": "code",
      "source": [
        "# Apply the functions to the dataframe\n",
        "unlabeled_df['sentence_length'] =unlabeled_df['sentence'].apply(sentence_length)\n",
        "unlabeled_df['avg_word_length'] = unlabeled_df['sentence'].apply(avg_word_length)\n",
        "unlabeled_df['lexical_diversity'] = unlabeled_df['sentence'].apply(lexical_diversity)\n",
        "unlabeled_df['syntactic_complexity'] = unlabeled_df['sentence'].apply(syntactic_complexity)\n",
        "# Apply the POS count function\n",
        "unlabeled_df_pos = unlabeled_df['sentence'].apply(pos_counts)\n",
        "pos_df = pd.DataFrame(list(unlabeled_df_pos))\n",
        "unlabeled_df = pd.concat([unlabeled_df, pos_df], axis=1)"
      ],
      "metadata": {
        "id": "1iOX3uAu5qwe"
      },
      "execution_count": null,
      "outputs": []
    },
    {
      "cell_type": "code",
      "source": [
        "# Transform the text data to TF-IDF features\n",
        "X_unlabeled = vectorizer.fit_transform(unlabeled_df['sentence'])\n",
        "\n",
        "# Extract additional features and convert to a CSR (Compressed Sparse Row) format\n",
        "additional_features = unlabeled_df[['sentence_length', 'avg_word_length', 'lexical_diversity', 'syntactic_complexity']]\n",
        "additional_features_csr = csr_matrix(additional_features)\n",
        "\n",
        "# Combine TF-IDF features with additional features\n",
        "X_combined_unlabeled = hstack([X_unlabeled, additional_features_csr])"
      ],
      "metadata": {
        "id": "t38dgX0i6m7P"
      },
      "execution_count": null,
      "outputs": []
    },
    {
      "cell_type": "code",
      "source": [
        "# Predicting the difficulty levels\n",
        "predicted_difficulties = model_lr.predict(X_combined_unlabeled)\n",
        "\n",
        "predicted_labels = encoder.inverse_transform(predicted_difficulties)\n"
      ],
      "metadata": {
        "id": "AkaLsBDS6vKK"
      },
      "execution_count": null,
      "outputs": []
    },
    {
      "cell_type": "markdown",
      "source": [
        "## Preparing Predictions for Kaggle Submission\n",
        "\n",
        "After obtaining predictions on the unlabeled dataset, the next step is to format these predictions for submission to Kaggle. This involves structuring the data according to Kaggle's submission requirements, typically in a CSV file with specific columns.\n",
        "\n",
        "### Process Overview:\n",
        "\n",
        "1. **Creating Submission DataFrame**:\n",
        "   - We create a new DataFrame that aligns with the expected submission format of Kaggle. This usually involves including an 'id' column and a column for predictions.\n",
        "\n",
        "2. **Inserting Predictions**:\n",
        "   - The predictions made by our model are inserted into the DataFrame, ensuring they match the corresponding ids of the unlabeled data.\n",
        "\n",
        "3. **Exporting to CSV**:\n",
        "   - The DataFrame is then exported to a CSV file, which is the format generally accepted for Kaggle submissions.\n",
        "\n",
        "4. **Submission Ready**:\n",
        "   - The CSV file can now be submitted to the appropriate Kaggle competition.\n",
        "\n",
        "### Example Code for Kaggle Submission:"
      ],
      "metadata": {
        "id": "7mJtTTaRz7ix"
      }
    },
    {
      "cell_type": "code",
      "source": [
        "# Prepare the DataFrame for submission\n",
        "submission_df = pd.DataFrame({\n",
        "    'id': unlabeled_df['id'],\n",
        "    'difficulty': predicted_labels\n",
        "})\n",
        "\n",
        "# Save the DataFrame to a CSV file\n",
        "submission_file = 'submission_v2.csv'\n",
        "submission_df.to_csv(submission_file, index=False)"
      ],
      "metadata": {
        "id": "69JXiVVU6_qB"
      },
      "execution_count": null,
      "outputs": []
    }
  ]
}
